{
 "cells": [
  {
   "cell_type": "markdown",
   "source": [
    "## Cv.2"
   ],
   "metadata": {
    "collapsed": false
   },
   "id": "4016608ba022ab59"
  },
  {
   "cell_type": "code",
   "outputs": [
    {
     "name": "stdout",
     "output_type": "stream",
     "text": [
      "1.4142135623730951 <class 'float'> 24\n",
      "1.4142135623730951 <class 'numpy.float64'> 32\n"
     ]
    }
   ],
   "source": [
    "import numpy as np\n",
    "import sys, math\n",
    "\n",
    "a = math.sqrt(2)\n",
    "print(a, type(a), sys.getsizeof(a))\n",
    "b = np.sqrt(2)\n",
    "print(b, type(b), sys.getsizeof(b))"
   ],
   "metadata": {
    "collapsed": false,
    "ExecuteTime": {
     "end_time": "2024-03-01T09:23:20.268706Z",
     "start_time": "2024-03-01T09:23:20.258279Z"
    }
   },
   "id": "6d75834ecd841f7c",
   "execution_count": 17
  },
  {
   "cell_type": "code",
   "outputs": [
    {
     "data": {
      "text/plain": "array([1, 2, 3, 4, 5])"
     },
     "metadata": {},
     "output_type": "display_data"
    },
    {
     "data": {
      "text/plain": "array([[1, 2, 3],\n       [4, 5, 6],\n       [7, 8, 9]])"
     },
     "metadata": {},
     "output_type": "display_data"
    },
    {
     "data": {
      "text/plain": "array([[ 48,  54,  60],\n       [111, 126, 141],\n       [174, 198, 222]])"
     },
     "metadata": {},
     "output_type": "display_data"
    },
    {
     "data": {
      "text/plain": "(3, 3)"
     },
     "metadata": {},
     "output_type": "display_data"
    },
    {
     "data": {
      "text/plain": "9"
     },
     "metadata": {},
     "output_type": "display_data"
    },
    {
     "data": {
      "text/plain": "dtype('int32')"
     },
     "metadata": {},
     "output_type": "display_data"
    },
    {
     "data": {
      "text/plain": "array([[ 48,  54],\n       [111, 126]])"
     },
     "metadata": {},
     "output_type": "display_data"
    },
    {
     "data": {
      "text/plain": "array([ 54, 126, 198])"
     },
     "metadata": {},
     "output_type": "display_data"
    }
   ],
   "source": [
    "import numpy as np\n",
    "\n",
    "a = np.array([1, 2, 3, 4, 5])\n",
    "display(a)\n",
    "m = np.array([[1, 2, 3], [4, 5, 6], [7, 8, 9]])\n",
    "display(m)\n",
    "n = np.array([[4, 5, 6], [7, 8, 9], [10, 11, 12]])\n",
    "x = np.dot(m, n)\n",
    "display(x)\n",
    "display(x.shape)\n",
    "display(x.size)\n",
    "display(x.dtype)\n",
    "display(x[:-1, :-1])\n",
    "display(x[:, 1])"
   ],
   "metadata": {
    "collapsed": false,
    "ExecuteTime": {
     "end_time": "2024-03-01T09:45:43.639301Z",
     "start_time": "2024-03-01T09:45:43.621770Z"
    }
   },
   "id": "a40b0f4612c27f84",
   "execution_count": 44
  },
  {
   "cell_type": "code",
   "outputs": [
    {
     "data": {
      "text/plain": "array([[1, 2, 3],\n       [4, 5, 6],\n       [7, 8, 9]])"
     },
     "metadata": {},
     "output_type": "display_data"
    },
    {
     "data": {
      "text/plain": "array([[ 2,  2, 13],\n       [ 5,  5, 16],\n       [ 8,  8, 19]])"
     },
     "metadata": {},
     "output_type": "display_data"
    },
    {
     "data": {
      "text/plain": "array([[ 1,  0, 30],\n       [ 4,  0, 60],\n       [ 7,  0, 90]])"
     },
     "metadata": {},
     "output_type": "display_data"
    },
    {
     "data": {
      "text/plain": "array([[ 2,  3,  4],\n       [ 4,  5,  6],\n       [17, 18, 19]])"
     },
     "metadata": {},
     "output_type": "display_data"
    },
    {
     "data": {
      "text/plain": "array([[ 1,  2,  3],\n       [ 0,  0,  0],\n       [70, 80, 90]])"
     },
     "metadata": {},
     "output_type": "display_data"
    }
   ],
   "source": [
    "import numpy as np\n",
    "\n",
    "a1 = np.array([[1,2,3],[4,5,6],[7,8,9]])\n",
    "display(a1)\n",
    "v = np.array([1, 0, 10])\n",
    "display(a1 + v)\n",
    "display(a1 * v)\n",
    "v = np.array([[1], [0], [10]])\n",
    "display(a1 + v)\n",
    "display(a1 * v)"
   ],
   "metadata": {
    "collapsed": false,
    "ExecuteTime": {
     "end_time": "2024-03-01T09:58:32.474582Z",
     "start_time": "2024-03-01T09:58:32.445940Z"
    }
   },
   "id": "e24fbf847ff298e8",
   "execution_count": 54
  }
 ],
 "metadata": {
  "kernelspec": {
   "display_name": "Python 3",
   "language": "python",
   "name": "python3"
  },
  "language_info": {
   "codemirror_mode": {
    "name": "ipython",
    "version": 2
   },
   "file_extension": ".py",
   "mimetype": "text/x-python",
   "name": "python",
   "nbconvert_exporter": "python",
   "pygments_lexer": "ipython2",
   "version": "2.7.6"
  }
 },
 "nbformat": 4,
 "nbformat_minor": 5
}
