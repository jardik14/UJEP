{
 "cells": [
  {
   "cell_type": "markdown",
   "source": [
    "# APR2"
   ],
   "metadata": {
    "collapsed": false
   },
   "id": "f134c20d18a7abd3"
  },
  {
   "cell_type": "markdown",
   "source": [
    "##  Cv.1"
   ],
   "metadata": {
    "collapsed": false
   },
   "id": "53c54964a01b0611"
  },
  {
   "cell_type": "markdown",
   "source": [
    "## Cv.1 - ukoly"
   ],
   "metadata": {
    "collapsed": false
   },
   "id": "7d6f37bf80519679"
  },
  {
   "cell_type": "markdown",
   "source": [
    "### DCv.1 - Student"
   ],
   "metadata": {
    "collapsed": false
   },
   "id": "ce2cac8ade30b94f"
  },
  {
   "cell_type": "code",
   "outputs": [
    {
     "name": "stdout",
     "output_type": "stream",
     "text": [
      "Id: 1, Fullname: Marko Markovic, Grades: [1, 1, 2, 1]\n",
      "znamky: [1, 1, 2, 1]\n",
      "Id: 2, Fullname: Janko Jankovic, Grades: [5, 5, 5, 5]\n",
      "znamky: [3, 3, 3, 3]\n",
      "Id: 3, Fullname: Milan Milanovic, Grades: [3, 4, 5, 3]\n",
      "znamky: [3, 4, 3, 3]\n",
      "Id: 4, Fullname: Nikola Nikolic, Grades: [2, 2, 3, 2]\n",
      "znamky: [2, 2, 3, 2]\n",
      "Id: 5, Fullname: Petar Petrovic, Grades: [4, 4, 4, 4]\n",
      "znamky: [4, 4, 4, 4]\n",
      "Id: 1, Fullname: Marko Markovic, Grades: [1, 1, 2, 1]\n",
      "Id: 2, Fullname: Janko Jankovic, Grades: [3, 3, 3, 3]\n",
      "Id: 3, Fullname: Milan Milanovic, Grades: [3, 4, 3, 3]\n",
      "Id: 4, Fullname: Nikola Nikolic, Grades: [2, 2, 3, 2]\n",
      "Id: 5, Fullname: Petar Petrovic, Grades: [4, 4, 4, 4]\n"
     ]
    }
   ],
   "source": [
    "class Student:\n",
    "    def __init__(self, student_id, fullname, grades):\n",
    "        self._student_id = student_id\n",
    "        self._fullname = fullname\n",
    "        self._grades = grades\n",
    "        \n",
    "    @property\n",
    "    def student_id(self):\n",
    "        return self._student_id\n",
    "    \n",
    "    @student_id.setter\n",
    "    def student_id(self, student_id):\n",
    "        self._student_id = student_id\n",
    "        \n",
    "    @property\n",
    "    def fullname(self):\n",
    "        return self._fullname\n",
    "    \n",
    "    @fullname.setter\n",
    "    def fullname(self, fullname):\n",
    "        self._fullname = fullname\n",
    "        \n",
    "    @property\n",
    "    def grades(self):\n",
    "        return self._grades\n",
    "    \n",
    "    @grades.setter\n",
    "    def grades(self, grades):\n",
    "        self._grades = grades\n",
    "        \n",
    "def main():\n",
    "    studenti = []\n",
    "    studenti.append(Student(1, \"Marko Markovic\", [1, 1, 2, 1]))\n",
    "    studenti.append(Student(2, \"Janko Jankovic\", [5, 5, 5, 5]))\n",
    "    studenti.append(Student(3, \"Milan Milanovic\", [3, 4, 5, 3]))\n",
    "    studenti.append(Student(4, \"Nikola Nikolic\", [2, 2, 3, 2]))\n",
    "    studenti.append(Student(5, \"Petar Petrovic\", [4, 4, 4, 4]))\n",
    "    \n",
    "    for student in studenti:\n",
    "        print(f\"Id: {student.student_id}, Fullname: {student.fullname}, Grades: {student.grades}\")\n",
    "        znamky = student.grades\n",
    "        for i in range(len(znamky)):\n",
    "            if znamky[i] > 4:\n",
    "                znamky[i] = 3\n",
    "        print(f\"znamky: {znamky}\")\n",
    "        student.grades = znamky\n",
    "        \n",
    "    for student in studenti:\n",
    "        print(f\"Id: {student.student_id}, Fullname: {student.fullname}, Grades: {student.grades}\")\n",
    "            \n",
    "    \n",
    "main()"
   ],
   "metadata": {
    "collapsed": false,
    "ExecuteTime": {
     "end_time": "2024-02-29T13:08:50.155061Z",
     "start_time": "2024-02-29T13:08:50.041747Z"
    }
   },
   "id": "5a229ad11b5ffdad",
   "execution_count": 1
  },
  {
   "cell_type": "markdown",
   "source": [
    "### DCv.2 - Knihovna pro parsování kurzů kryptoměn"
   ],
   "metadata": {
    "collapsed": false
   },
   "id": "e3e3fa8abcf1691f"
  },
  {
   "cell_type": "code",
   "outputs": [],
   "source": [
    "from selenium import webdriver\n",
    "from selenium.webdriver.chrome.options import Options\n",
    "from bs4 import BeautifulSoup\n",
    "\n",
    "url = \"https://www.kurzy.cz/kryptomeny/seznam-kryptomen/\"\n",
    "options = webdriver.ChromeOptions()\n",
    "options.add_argument(\"headless\")\n",
    "driver = webdriver.Chrome(options)\n",
    "driver.get(url)"
   ],
   "metadata": {
    "collapsed": false,
    "ExecuteTime": {
     "end_time": "2024-02-28T12:13:52.534379Z",
     "start_time": "2024-02-28T12:13:45.390519Z"
    }
   },
   "id": "70eede7cca52853c",
   "execution_count": 8
  },
  {
   "cell_type": "code",
   "outputs": [
    {
     "name": "stderr",
     "output_type": "stream",
     "text": [
      "There was an error managing chromedriver (error sending request for url (https://googlechromelabs.github.io/chrome-for-testing/known-good-versions-with-downloads.json): error trying to connect: dns error: Není znám žádný takový hostitel. (os error 11001)); using driver found in the cache\n",
      "Error sending stats to Plausible: error sending request for url (https://plausible.io/api/event): error trying to connect: dns error: Není znám žádný takový hostitel. (os error 11001)\n"
     ]
    },
    {
     "ename": "WebDriverException",
     "evalue": "Message: unknown error: net::ERR_NAME_NOT_RESOLVED\n  (Session info: chrome-headless-shell=122.0.6261.70)\nStacktrace:\n\tGetHandleVerifier [0x00007FF6B8D1AD22+56930]\n\t(No symbol) [0x00007FF6B8C8F622]\n\t(No symbol) [0x00007FF6B8B442E5]\n\t(No symbol) [0x00007FF6B8B4011A]\n\t(No symbol) [0x00007FF6B8B329F4]\n\t(No symbol) [0x00007FF6B8B33D29]\n\t(No symbol) [0x00007FF6B8B32CF3]\n\t(No symbol) [0x00007FF6B8B31EF4]\n\t(No symbol) [0x00007FF6B8B31E11]\n\t(No symbol) [0x00007FF6B8B30625]\n\t(No symbol) [0x00007FF6B8B30EDC]\n\t(No symbol) [0x00007FF6B8B469FD]\n\t(No symbol) [0x00007FF6B8BC8B47]\n\t(No symbol) [0x00007FF6B8BABC9A]\n\t(No symbol) [0x00007FF6B8BC81E2]\n\t(No symbol) [0x00007FF6B8BABA43]\n\t(No symbol) [0x00007FF6B8B7D438]\n\t(No symbol) [0x00007FF6B8B7E4D1]\n\tGetHandleVerifier [0x00007FF6B9096AAD+3709933]\n\tGetHandleVerifier [0x00007FF6B90EFFED+4075821]\n\tGetHandleVerifier [0x00007FF6B90E817F+4043455]\n\tGetHandleVerifier [0x00007FF6B8DB9756+706710]\n\t(No symbol) [0x00007FF6B8C9B8FF]\n\t(No symbol) [0x00007FF6B8C96AE4]\n\t(No symbol) [0x00007FF6B8C96C3C]\n\t(No symbol) [0x00007FF6B8C868F4]\n\tBaseThreadInitThunk [0x00007FFBA108257D+29]\n\tRtlUserThreadStart [0x00007FFBA1CEAA58+40]\n",
     "output_type": "error",
     "traceback": [
      "\u001B[1;31m---------------------------------------------------------------------------\u001B[0m",
      "\u001B[1;31mWebDriverException\u001B[0m                        Traceback (most recent call last)",
      "Cell \u001B[1;32mIn[1], line 39\u001B[0m\n\u001B[0;32m     36\u001B[0m     \u001B[38;5;28mprint\u001B[39m(\u001B[38;5;124mf\u001B[39m\u001B[38;5;124m\"\u001B[39m\u001B[38;5;124mLitecoin: \u001B[39m\u001B[38;5;132;01m{\u001B[39;00mlitecoin\u001B[38;5;241m.\u001B[39mget_price()\u001B[38;5;132;01m}\u001B[39;00m\u001B[38;5;124m Kč\u001B[39m\u001B[38;5;124m\"\u001B[39m)\n\u001B[0;32m     37\u001B[0m     litecoin\u001B[38;5;241m.\u001B[39m\u001B[38;5;21m__del__\u001B[39m()\n\u001B[1;32m---> 39\u001B[0m \u001B[43mmain\u001B[49m\u001B[43m(\u001B[49m\u001B[43m)\u001B[49m\n",
      "Cell \u001B[1;32mIn[1], line 27\u001B[0m, in \u001B[0;36mmain\u001B[1;34m()\u001B[0m\n\u001B[0;32m     26\u001B[0m \u001B[38;5;28;01mdef\u001B[39;00m \u001B[38;5;21mmain\u001B[39m():\n\u001B[1;32m---> 27\u001B[0m     bitcoin \u001B[38;5;241m=\u001B[39m \u001B[43mCryproCurrencyParser\u001B[49m\u001B[43m(\u001B[49m\u001B[38;5;124;43m\"\u001B[39;49m\u001B[38;5;124;43mBitcoin\u001B[39;49m\u001B[38;5;124;43m\"\u001B[39;49m\u001B[43m,\u001B[49m\u001B[43m \u001B[49m\u001B[38;5;124;43m\"\u001B[39;49m\u001B[38;5;124;43mbtc\u001B[39;49m\u001B[38;5;124;43m\"\u001B[39;49m\u001B[43m,\u001B[49m\u001B[43m \u001B[49m\u001B[38;5;124;43m\"\u001B[39;49m\u001B[38;5;124;43mhttps://www.kurzy.cz/kryptomeny/seznam-kryptomen/\u001B[39;49m\u001B[38;5;124;43m\"\u001B[39;49m\u001B[43m)\u001B[49m\n\u001B[0;32m     28\u001B[0m     \u001B[38;5;28mprint\u001B[39m(\u001B[38;5;124mf\u001B[39m\u001B[38;5;124m\"\u001B[39m\u001B[38;5;124mBitcoin: \u001B[39m\u001B[38;5;132;01m{\u001B[39;00mbitcoin\u001B[38;5;241m.\u001B[39mget_price()\u001B[38;5;132;01m}\u001B[39;00m\u001B[38;5;124m Kč\u001B[39m\u001B[38;5;124m\"\u001B[39m)\n\u001B[0;32m     29\u001B[0m     bitcoin\u001B[38;5;241m.\u001B[39m\u001B[38;5;21m__del__\u001B[39m()\n",
      "Cell \u001B[1;32mIn[1], line 14\u001B[0m, in \u001B[0;36mCryproCurrencyParser.__init__\u001B[1;34m(self, name, abbreviation, url)\u001B[0m\n\u001B[0;32m     12\u001B[0m options\u001B[38;5;241m.\u001B[39madd_argument(\u001B[38;5;124m\"\u001B[39m\u001B[38;5;124mheadless\u001B[39m\u001B[38;5;124m\"\u001B[39m)\n\u001B[0;32m     13\u001B[0m \u001B[38;5;28mself\u001B[39m\u001B[38;5;241m.\u001B[39m_driver \u001B[38;5;241m=\u001B[39m webdriver\u001B[38;5;241m.\u001B[39mChrome(options)\n\u001B[1;32m---> 14\u001B[0m \u001B[38;5;28;43mself\u001B[39;49m\u001B[38;5;241;43m.\u001B[39;49m\u001B[43m_driver\u001B[49m\u001B[38;5;241;43m.\u001B[39;49m\u001B[43mget\u001B[49m\u001B[43m(\u001B[49m\u001B[38;5;28;43mself\u001B[39;49m\u001B[38;5;241;43m.\u001B[39;49m\u001B[43m_url\u001B[49m\u001B[43m)\u001B[49m\n\u001B[0;32m     15\u001B[0m \u001B[38;5;28mself\u001B[39m\u001B[38;5;241m.\u001B[39m_html \u001B[38;5;241m=\u001B[39m \u001B[38;5;28mself\u001B[39m\u001B[38;5;241m.\u001B[39m_driver\u001B[38;5;241m.\u001B[39mpage_source\n\u001B[0;32m     16\u001B[0m \u001B[38;5;28mself\u001B[39m\u001B[38;5;241m.\u001B[39m_soup \u001B[38;5;241m=\u001B[39m BeautifulSoup(\u001B[38;5;28mself\u001B[39m\u001B[38;5;241m.\u001B[39m_html, \u001B[38;5;124m\"\u001B[39m\u001B[38;5;124mhtml.parser\u001B[39m\u001B[38;5;124m\"\u001B[39m)\n",
      "File \u001B[1;32m~\\AppData\\Local\\Packages\\PythonSoftwareFoundation.Python.3.10_qbz5n2kfra8p0\\LocalCache\\local-packages\\Python310\\site-packages\\selenium\\webdriver\\remote\\webdriver.py:356\u001B[0m, in \u001B[0;36mWebDriver.get\u001B[1;34m(self, url)\u001B[0m\n\u001B[0;32m    354\u001B[0m \u001B[38;5;28;01mdef\u001B[39;00m \u001B[38;5;21mget\u001B[39m(\u001B[38;5;28mself\u001B[39m, url: \u001B[38;5;28mstr\u001B[39m) \u001B[38;5;241m-\u001B[39m\u001B[38;5;241m>\u001B[39m \u001B[38;5;28;01mNone\u001B[39;00m:\n\u001B[0;32m    355\u001B[0m \u001B[38;5;250m    \u001B[39m\u001B[38;5;124;03m\"\"\"Loads a web page in the current browser session.\"\"\"\u001B[39;00m\n\u001B[1;32m--> 356\u001B[0m     \u001B[38;5;28;43mself\u001B[39;49m\u001B[38;5;241;43m.\u001B[39;49m\u001B[43mexecute\u001B[49m\u001B[43m(\u001B[49m\u001B[43mCommand\u001B[49m\u001B[38;5;241;43m.\u001B[39;49m\u001B[43mGET\u001B[49m\u001B[43m,\u001B[49m\u001B[43m \u001B[49m\u001B[43m{\u001B[49m\u001B[38;5;124;43m\"\u001B[39;49m\u001B[38;5;124;43murl\u001B[39;49m\u001B[38;5;124;43m\"\u001B[39;49m\u001B[43m:\u001B[49m\u001B[43m \u001B[49m\u001B[43murl\u001B[49m\u001B[43m}\u001B[49m\u001B[43m)\u001B[49m\n",
      "File \u001B[1;32m~\\AppData\\Local\\Packages\\PythonSoftwareFoundation.Python.3.10_qbz5n2kfra8p0\\LocalCache\\local-packages\\Python310\\site-packages\\selenium\\webdriver\\remote\\webdriver.py:347\u001B[0m, in \u001B[0;36mWebDriver.execute\u001B[1;34m(self, driver_command, params)\u001B[0m\n\u001B[0;32m    345\u001B[0m response \u001B[38;5;241m=\u001B[39m \u001B[38;5;28mself\u001B[39m\u001B[38;5;241m.\u001B[39mcommand_executor\u001B[38;5;241m.\u001B[39mexecute(driver_command, params)\n\u001B[0;32m    346\u001B[0m \u001B[38;5;28;01mif\u001B[39;00m response:\n\u001B[1;32m--> 347\u001B[0m     \u001B[38;5;28;43mself\u001B[39;49m\u001B[38;5;241;43m.\u001B[39;49m\u001B[43merror_handler\u001B[49m\u001B[38;5;241;43m.\u001B[39;49m\u001B[43mcheck_response\u001B[49m\u001B[43m(\u001B[49m\u001B[43mresponse\u001B[49m\u001B[43m)\u001B[49m\n\u001B[0;32m    348\u001B[0m     response[\u001B[38;5;124m\"\u001B[39m\u001B[38;5;124mvalue\u001B[39m\u001B[38;5;124m\"\u001B[39m] \u001B[38;5;241m=\u001B[39m \u001B[38;5;28mself\u001B[39m\u001B[38;5;241m.\u001B[39m_unwrap_value(response\u001B[38;5;241m.\u001B[39mget(\u001B[38;5;124m\"\u001B[39m\u001B[38;5;124mvalue\u001B[39m\u001B[38;5;124m\"\u001B[39m, \u001B[38;5;28;01mNone\u001B[39;00m))\n\u001B[0;32m    349\u001B[0m     \u001B[38;5;28;01mreturn\u001B[39;00m response\n",
      "File \u001B[1;32m~\\AppData\\Local\\Packages\\PythonSoftwareFoundation.Python.3.10_qbz5n2kfra8p0\\LocalCache\\local-packages\\Python310\\site-packages\\selenium\\webdriver\\remote\\errorhandler.py:229\u001B[0m, in \u001B[0;36mErrorHandler.check_response\u001B[1;34m(self, response)\u001B[0m\n\u001B[0;32m    227\u001B[0m         alert_text \u001B[38;5;241m=\u001B[39m value[\u001B[38;5;124m\"\u001B[39m\u001B[38;5;124malert\u001B[39m\u001B[38;5;124m\"\u001B[39m]\u001B[38;5;241m.\u001B[39mget(\u001B[38;5;124m\"\u001B[39m\u001B[38;5;124mtext\u001B[39m\u001B[38;5;124m\"\u001B[39m)\n\u001B[0;32m    228\u001B[0m     \u001B[38;5;28;01mraise\u001B[39;00m exception_class(message, screen, stacktrace, alert_text)  \u001B[38;5;66;03m# type: ignore[call-arg]  # mypy is not smart enough here\u001B[39;00m\n\u001B[1;32m--> 229\u001B[0m \u001B[38;5;28;01mraise\u001B[39;00m exception_class(message, screen, stacktrace)\n",
      "\u001B[1;31mWebDriverException\u001B[0m: Message: unknown error: net::ERR_NAME_NOT_RESOLVED\n  (Session info: chrome-headless-shell=122.0.6261.70)\nStacktrace:\n\tGetHandleVerifier [0x00007FF6B8D1AD22+56930]\n\t(No symbol) [0x00007FF6B8C8F622]\n\t(No symbol) [0x00007FF6B8B442E5]\n\t(No symbol) [0x00007FF6B8B4011A]\n\t(No symbol) [0x00007FF6B8B329F4]\n\t(No symbol) [0x00007FF6B8B33D29]\n\t(No symbol) [0x00007FF6B8B32CF3]\n\t(No symbol) [0x00007FF6B8B31EF4]\n\t(No symbol) [0x00007FF6B8B31E11]\n\t(No symbol) [0x00007FF6B8B30625]\n\t(No symbol) [0x00007FF6B8B30EDC]\n\t(No symbol) [0x00007FF6B8B469FD]\n\t(No symbol) [0x00007FF6B8BC8B47]\n\t(No symbol) [0x00007FF6B8BABC9A]\n\t(No symbol) [0x00007FF6B8BC81E2]\n\t(No symbol) [0x00007FF6B8BABA43]\n\t(No symbol) [0x00007FF6B8B7D438]\n\t(No symbol) [0x00007FF6B8B7E4D1]\n\tGetHandleVerifier [0x00007FF6B9096AAD+3709933]\n\tGetHandleVerifier [0x00007FF6B90EFFED+4075821]\n\tGetHandleVerifier [0x00007FF6B90E817F+4043455]\n\tGetHandleVerifier [0x00007FF6B8DB9756+706710]\n\t(No symbol) [0x00007FF6B8C9B8FF]\n\t(No symbol) [0x00007FF6B8C96AE4]\n\t(No symbol) [0x00007FF6B8C96C3C]\n\t(No symbol) [0x00007FF6B8C868F4]\n\tBaseThreadInitThunk [0x00007FFBA108257D+29]\n\tRtlUserThreadStart [0x00007FFBA1CEAA58+40]\n"
     ]
    }
   ],
   "source": [
    "from selenium import webdriver\n",
    "from selenium.webdriver.chrome.options import Options\n",
    "from bs4 import BeautifulSoup\n",
    "\n",
    "\n",
    "class CryproCurrencyParser:\n",
    "    def __init__(self, name, abbreviation, url):\n",
    "        self._name = name\n",
    "        self._abbreviation = abbreviation\n",
    "        self._url = url\n",
    "        options = webdriver.ChromeOptions()\n",
    "        options.add_argument(\"headless\")\n",
    "        self._driver = webdriver.Chrome(options)\n",
    "        self._driver.get(self._url)\n",
    "        self._html = self._driver.page_source\n",
    "        self._soup = BeautifulSoup(self._html, \"html.parser\")\n",
    "        \n",
    "    def get_price(self):\n",
    "        price = self._soup.find(\"span\", id=f\"id_{self._abbreviation}_cz\")\n",
    "        return price.text\n",
    "    \n",
    "    def __del__(self):\n",
    "        self._driver.quit()\n",
    "\n",
    "\n",
    "def main():\n",
    "    bitcoin = CryproCurrencyParser(\"Bitcoin\", \"btc\", \"https://www.kurzy.cz/kryptomeny/seznam-kryptomen/\")\n",
    "    print(f\"Bitcoin: {bitcoin.get_price()} Kč\")\n",
    "    bitcoin.__del__()\n",
    "    \n",
    "    ethereum = CryproCurrencyParser(\"Ethereum\", \"eth\", \"https://www.kurzy.cz/kryptomeny/seznam-kryptomen/\")\n",
    "    print(f\"Ethereum: {ethereum.get_price()} Kč\")\n",
    "    ethereum.__del__()\n",
    "    \n",
    "    litecoin = CryproCurrencyParser(\"Litecoin\", \"ltc\", \"https://www.kurzy.cz/kryptomeny/seznam-kryptomen/\")\n",
    "    print(f\"Litecoin: {litecoin.get_price()} Kč\")\n",
    "    litecoin.__del__()\n",
    "    \n",
    "main()"
   ],
   "metadata": {
    "collapsed": false,
    "ExecuteTime": {
     "end_time": "2024-02-29T16:45:20.846715Z",
     "start_time": "2024-02-29T16:45:14.824932Z"
    }
   },
   "id": "4fdf113362304d07",
   "execution_count": 1
  },
  {
   "cell_type": "markdown",
   "source": [
    "### DCv.3 - Dekorátory"
   ],
   "metadata": {
    "collapsed": false
   },
   "id": "cd86aa7e257e5d72"
  },
  {
   "cell_type": "code",
   "outputs": [],
   "source": [
    "def log_decorator(func):\n",
    "    def wrapper(*args, **kwargs):\n",
    "        print(f\"Calling function {func.__name__} with args {args} and kwargs {kwargs}\")\n",
    "        result = func(*args, **kwargs)\n",
    "        print(f\"Function {func.__name__} returned {result}\")\n",
    "        return result\n",
    "    return wrapper"
   ],
   "metadata": {
    "collapsed": false
   },
   "id": "6fd37ccfdebb5c4b"
  },
  {
   "cell_type": "markdown",
   "source": [
    "### DCv.5 - Sčítání fotek"
   ],
   "metadata": {
    "collapsed": false
   },
   "id": "dc7fa902a8d7e4a3"
  },
  {
   "cell_type": "code",
   "outputs": [],
   "source": [
    "from PIL import Image\n",
    "\n",
    "class Photo:\n",
    "    def __init__(self, path):\n",
    "        self._path = path\n",
    "        self._image = Image.open(self._path)\n",
    "        \n",
    "    def __add__(self, other):\n",
    "        new_image = Image.new(\"RGB\", (self._image.width + other._image.width, self._image.height))\n",
    "        new_image.paste(self._image, (0, 0))\n",
    "        new_image.paste(other._image, (self._image.width, 0))\n",
    "        return new_image\n",
    "    \n",
    "    def __sub__(self, other):\n",
    "        new_image = Image.new(\"RGB\", (self._image.width - other._image.width, self._image.height))\n",
    "        new_image.paste(self._image, (0, 0))\n",
    "        new_image.paste(other._image, (self._image.width, 0))\n",
    "        return new_image\n",
    "    \n",
    "    def __str__(self):\n",
    "        return f\"Image: {self._path}\"\n",
    "    \n",
    "    def __int__ (self):\n",
    "        return self._image.width * self._image.height\n",
    "    \n",
    "    def __gt__(self, other):\n",
    "        return int(self) > int(other)\n",
    "    \n",
    "    def __lt__(self, other):\n",
    "        return int(self) < int(other)\n",
    "    \n",
    "    def __eq__(self, other):\n",
    "        return int(self) == int(other)\n",
    "    \n",
    "    \n",
    "    def show(self):\n",
    "        self._image.show()\n",
    "        \n",
    "    \n",
    "def main():\n",
    "    puppy = Photo(\"puppy.jpeg\")\n",
    "    kitten = Photo(\"kitten.jpeg\")\n",
    "    new_image = kitten - puppy\n",
    "    new_image.show()\n",
    "    \n",
    "main()"
   ],
   "metadata": {
    "collapsed": false,
    "ExecuteTime": {
     "end_time": "2024-03-01T07:22:32.436970Z",
     "start_time": "2024-03-01T07:22:27.799832Z"
    }
   },
   "id": "c52af5009829c66",
   "execution_count": 1
  },
  {
   "cell_type": "markdown",
   "source": [
    "## Cv.2"
   ],
   "metadata": {
    "collapsed": false
   },
   "id": "23575128e6d73a19"
  },
  {
   "cell_type": "markdown",
   "source": [
    "### Queue"
   ],
   "metadata": {
    "collapsed": false
   },
   "id": "e154525f2964d754"
  },
  {
   "cell_type": "code",
   "outputs": [
    {
     "name": "stdout",
     "output_type": "stream",
     "text": [
      "2\n",
      "2\n",
      "3\n",
      "3\n"
     ]
    }
   ],
   "source": [
    "class Queue:\n",
    "    def __init__(self, memory: int, items = list(): list):\n",
    "        assert len(items) <=memory, \"Memory exceeded\"\n",
    "        self._memory = memory\n",
    "        self._items = items\n",
    "        \n",
    "    def is_empty(self):\n",
    "        return self._items == []\n",
    "    \n",
    "    def enqueue(self, item):\n",
    "        if self.size()+1 > self._memory:\n",
    "            raise Exception(\"Memory exceeded\")\n",
    "        self._items.insert(0, item)\n",
    "        \n",
    "    def dequeue(self):\n",
    "        return self._items.pop()\n",
    "        \n",
    "    def front(self):\n",
    "        return self._items[0]\n",
    "    \n",
    "    def rear(self):\n",
    "        return self._items[0]\n",
    "    \n",
    "    def size(self):\n",
    "        return len(self._items)\n",
    "    \n",
    "    def print(self):\n",
    "        for e in self._items:\n",
    "            print(e)\n",
    "    \n",
    "    \n",
    "    \n",
    "    \n",
    "    \n",
    "q = Queue(5, [1,2])\n",
    "print(q.size())\n",
    "q.enqueue(3)\n",
    "print(q.dequeue())\n",
    "print(q.front())\n",
    "print(q.rear())"
   ],
   "metadata": {
    "collapsed": false,
    "ExecuteTime": {
     "end_time": "2024-03-01T07:34:34.255117Z",
     "start_time": "2024-03-01T07:34:34.237504Z"
    }
   },
   "id": "253336826bc257d1",
   "execution_count": 12
  },
  {
   "cell_type": "markdown",
   "source": [
    "### Vyrovnané závorky"
   ],
   "metadata": {
    "collapsed": false
   },
   "id": "a0c2df3dcf59b79a"
  },
  {
   "cell_type": "code",
   "outputs": [
    {
     "name": "stdout",
     "output_type": "stream",
     "text": [
      "True\n",
      "True\n",
      "True\n",
      "False\n",
      "False\n"
     ]
    }
   ],
   "source": [
    "class Stack:\n",
    "    def __init__(self):\n",
    "        self._items = []\n",
    "        \n",
    "    def push(self,item):\n",
    "        self._items.append(item)\n",
    "        \n",
    "    def pop(self):\n",
    "        return self._items.pop()\n",
    "    \n",
    "    def top(self):\n",
    "        return self._items[-1]\n",
    "    \n",
    "    def is_empty(self):\n",
    "        return self._items == []\n",
    "    \n",
    "def vyrovnane(expr):\n",
    "    pairs = {\n",
    "        \"(\":\")\",\n",
    "        \"[\":\"]\",\n",
    "        \"{\":\"}\"\n",
    "    }\n",
    "    stack = Stack()\n",
    "    for e in expr:\n",
    "        if e in pairs.keys() or e in pairs.values():\n",
    "            if e in pairs.keys():\n",
    "                stack.push(e)\n",
    "            else:\n",
    "                if stack.is_empty():\n",
    "                    return False\n",
    "                if not e == pairs[stack.pop()]:\n",
    "                    return False \n",
    "    if not stack.is_empty():\n",
    "        return False\n",
    "    return True\n",
    "            \n",
    "    \n",
    "print(vyrovnane(\"[()]\"))\n",
    "print(vyrovnane(\"{[][]()((([])))}\"))\n",
    "print(vyrovnane(\"2 * [4 + 5 * ( 2 + 1 ) ]\"))\n",
    "print(vyrovnane(\"(\"))\n",
    "print(vyrovnane(\")\"))"
   ],
   "metadata": {
    "collapsed": false,
    "ExecuteTime": {
     "end_time": "2024-03-01T08:07:11.685606Z",
     "start_time": "2024-03-01T08:07:11.678387Z"
    }
   },
   "id": "471be8e1edf31887",
   "execution_count": 22
  },
  {
   "cell_type": "markdown",
   "source": [
    "## Cv.2 - ukoly"
   ],
   "metadata": {
    "collapsed": false
   },
   "id": "5cf92b32144cfd8"
  },
  {
   "cell_type": "markdown",
   "source": [
    "### DCv.1 - Dvojitá fronta"
   ],
   "metadata": {
    "collapsed": false
   },
   "id": "ba62808ab74d34ca"
  },
  {
   "cell_type": "code",
   "outputs": [],
   "source": [
    "class Deque:\n",
    "    def __init__(self):\n",
    "        self._items = []\n",
    "        \n",
    "    def is_empty(self):\n",
    "        return self._items == []\n",
    "    \n",
    "    def add_front(self, item):\n",
    "        self._items.append(item)\n",
    "        \n",
    "    def add_rear(self, item):\n",
    "        self._items.insert(0, item)\n",
    "        \n",
    "    def remove_front(self):\n",
    "        return self._items.pop()\n",
    "    \n",
    "    def remove_rear(self):\n",
    "        return self._items.pop(0)\n",
    "    \n",
    "    def size(self):\n",
    "        return len(self._items)"
   ],
   "metadata": {
    "collapsed": false,
    "ExecuteTime": {
     "end_time": "2024-02-28T14:48:06.405263Z",
     "start_time": "2024-02-28T14:48:06.394291Z"
    }
   },
   "id": "9ecdca3a9ce89358",
   "execution_count": 2
  },
  {
   "cell_type": "markdown",
   "source": [
    "### DCv.2 - Palindromy"
   ],
   "metadata": {
    "collapsed": false
   },
   "id": "132f6f1238b4aae3"
  },
  {
   "cell_type": "code",
   "outputs": [
    {
     "name": "stdout",
     "output_type": "stream",
     "text": [
      "True\n",
      "False\n"
     ]
    }
   ],
   "source": [
    "def is_palindrome(word):\n",
    "    deque = Deque()\n",
    "    for letter in word:\n",
    "        deque.add_rear(letter)\n",
    "        \n",
    "    while deque.size() > 1:\n",
    "        if deque.remove_front() != deque.remove_rear():\n",
    "            return False\n",
    "    return True\n",
    "\n",
    "def main():\n",
    "    print(is_palindrome(\"radar\"))\n",
    "    print(is_palindrome(\"hello\"))\n",
    "    \n",
    "main()"
   ],
   "metadata": {
    "collapsed": false,
    "ExecuteTime": {
     "end_time": "2024-02-28T14:48:08.646714Z",
     "start_time": "2024-02-28T14:48:08.631749Z"
    }
   },
   "id": "d6a766bd8cedcfdd",
   "execution_count": 3
  },
  {
   "cell_type": "markdown",
   "source": [
    "### DCv.3 - Prioritní fronta"
   ],
   "metadata": {
    "collapsed": false
   },
   "id": "b35e59ff43a0d3d5"
  },
  {
   "cell_type": "code",
   "outputs": [
    {
     "name": "stdout",
     "output_type": "stream",
     "text": [
      "[5, 10, 1]\n",
      "10\n",
      "5\n",
      "1\n"
     ]
    }
   ],
   "source": [
    "class PriorityQueue:\n",
    "    def __init__(self):\n",
    "        self._items = []\n",
    "        \n",
    "        \n",
    "    def is_empty(self):\n",
    "        return self._items == []\n",
    "    \n",
    "    def insert(self, item):\n",
    "        self._items.append(item)\n",
    "\n",
    "    def remove(self):\n",
    "        max_index = 0\n",
    "        for i in range(1, len(self._items)):\n",
    "            if self._items[i] > self._items[max_index]:\n",
    "                max_index = i\n",
    "        return self._items.pop(max_index)\n",
    "    \n",
    "    def size(self):\n",
    "        return len(self._items)\n",
    "    \n",
    "    def __str__(self):\n",
    "        return str(self._items)\n",
    "    \n",
    "def main():\n",
    "    q = PriorityQueue()\n",
    "    q.insert(5)\n",
    "    q.insert(10)\n",
    "    q.insert(1)\n",
    "    print(q)\n",
    "    while not q.is_empty():\n",
    "        print(q.remove())\n",
    "        \n",
    "main()\n",
    "        "
   ],
   "metadata": {
    "collapsed": false,
    "ExecuteTime": {
     "end_time": "2024-03-01T08:32:40.420814Z",
     "start_time": "2024-03-01T08:32:40.409587Z"
    }
   },
   "id": "ef5f7b5814a2fb93",
   "execution_count": 12
  },
  {
   "cell_type": "markdown",
   "source": [
    "### DCv.4 - Notace"
   ],
   "metadata": {
    "collapsed": false
   },
   "id": "9ff5dc3e5683efb8"
  },
  {
   "cell_type": "code",
   "outputs": [
    {
     "name": "stdout",
     "output_type": "stream",
     "text": [
      "4\n",
      "5\n",
      "10\n"
     ]
    }
   ],
   "source": [
    "from queue import LifoQueue as Stack\n",
    "\n",
    "def calculate_prefix(expr):\n",
    "    expr = expr.split(\" \")\n",
    "    expr.reverse()\n",
    "    stack = Stack()\n",
    "    for e in expr:\n",
    "        if e.isdigit():\n",
    "            stack.put(e)\n",
    "        else:\n",
    "            a = stack.get()\n",
    "            b = stack.get()\n",
    "            stack.put(eval(f\"{a} {e} {b}\"))\n",
    "    return stack.get()\n",
    "\n",
    "def calculate_postfix(expr):\n",
    "    expr = expr.split(\" \")\n",
    "    stack = Stack()\n",
    "    for e in expr:\n",
    "        if e.isdigit():\n",
    "            stack.put(e)\n",
    "        else:\n",
    "            a = stack.get()\n",
    "            b = stack.get()\n",
    "            stack.put(eval(f\"{a} {e} {b}\"))\n",
    "    return stack.get()\n",
    "                \n",
    "            \n",
    "    \n",
    "        \n",
    "            \n",
    "def main():\n",
    "    print(calculate_prefix(\"+ 2 2\"))\n",
    "    print(calculate_prefix(\"+ 1 * 2 2\"))\n",
    "    print(calculate_prefix(\"+ * 2 3 4\"))\n",
    "    \n",
    "    \n",
    "main()"
   ],
   "metadata": {
    "collapsed": false,
    "ExecuteTime": {
     "end_time": "2024-03-01T08:25:50.576694Z",
     "start_time": "2024-03-01T08:25:50.564222Z"
    }
   },
   "id": "e0851e54a6b593b6",
   "execution_count": 10
  },
  {
   "cell_type": "markdown",
   "source": [
    "### DCv.5 - Seřazený seznam"
   ],
   "metadata": {
    "collapsed": false
   },
   "id": "3c692add8fdb16c2"
  },
  {
   "cell_type": "code",
   "outputs": [
    {
     "name": "stdout",
     "output_type": "stream",
     "text": [
      "55\n",
      "10\n",
      "4\n",
      "5\n",
      "size: 4\n",
      "1\n",
      "2\n",
      "3\n",
      "4\n",
      "5\n",
      "True\n",
      "1\n",
      "2\n",
      "3\n",
      "4\n",
      "5\n",
      "True\n"
     ]
    }
   ],
   "source": [
    "class Node:\n",
    "    def __init__(self, val):\n",
    "        self.val = val\n",
    "        self.next = None\n",
    "        \n",
    "\n",
    "class UnorderedLinkList():\n",
    "    def __init__(self):\n",
    "        self.head = None\n",
    "        \n",
    "    def is_empty(self):\n",
    "        return self.head is None\n",
    "    \n",
    "    def size(self):\n",
    "        size = 0\n",
    "        tmp = self.head\n",
    "        while not tmp is None:\n",
    "            size += 1\n",
    "            tmp = tmp.next\n",
    "        return size\n",
    "        \n",
    "    def add(self, item):\n",
    "        tmp = Node(item)\n",
    "        tmp.next = self.head\n",
    "        self.head = tmp\n",
    "        \n",
    "    def print(self):\n",
    "        if self.is_empty():\n",
    "            print(\"Empty\")\n",
    "            return\n",
    "        tmp = self.head\n",
    "        while not tmp is None:\n",
    "            print(tmp.val)\n",
    "            tmp = tmp.next\n",
    "            \n",
    "    \n",
    "class OrderedLinkList(UnorderedLinkList):\n",
    "    def add(self, item):\n",
    "        if self.is_empty():\n",
    "            tmp = Node(item)\n",
    "            tmp.next = self.head\n",
    "            self.head = tmp\n",
    "        else:\n",
    "            tmp = Node(item)\n",
    "            curr = self.head\n",
    "            prev = None\n",
    "            \n",
    "            while not curr is None:\n",
    "                if curr.val > item:\n",
    "                    break\n",
    "                prev, curr = curr, curr.next\n",
    "                \n",
    "            if prev is None:\n",
    "                tmp.next = self.head\n",
    "                self.head = tmp\n",
    "            else:\n",
    "                tmp.next = curr\n",
    "                prev.next = tmp\n",
    "            \n",
    "    def search(self, item):\n",
    "        tmp = self.head\n",
    "        while not tmp is None:\n",
    "            if item == tmp.val:\n",
    "                return True\n",
    "            if item < tmp.val:\n",
    "                return False\n",
    "            tmp = tmp.next\n",
    "        return False\n",
    "            \n",
    "                \n",
    "class OrderedList():\n",
    "    def __init__(self):\n",
    "        self.items = []\n",
    "        \n",
    "    def add(self, item):\n",
    "        self.items.append(item)\n",
    "        self.items.sort()\n",
    "        \n",
    "    def is_empty(self):\n",
    "        if self.items == []:\n",
    "            return True\n",
    "        return False\n",
    "    \n",
    "    def size(self):\n",
    "        return len(self.items)\n",
    "    \n",
    "    def remove(self,item):\n",
    "        self.items.remove(item)\n",
    "        \n",
    "    def search(self, item):\n",
    "        return item in self.items\n",
    "    \n",
    "    def pop(self):\n",
    "        return self.items.pop()\n",
    "    \n",
    "    def pop(self, pos):\n",
    "        return self.items.pop(pos)\n",
    "    \n",
    "    def index(self, item):\n",
    "        for i in range(self.size):\n",
    "            if item == self.items[i]:\n",
    "                return i\n",
    "        return -1\n",
    "    \n",
    "    def print(self):\n",
    "        for item in self.items:\n",
    "            print(item)\n",
    "    \n",
    "    \n",
    "    \n",
    "def main():\n",
    "    ulist = UnorderedLinkList()\n",
    "    ulist.add(5)\n",
    "    ulist.add(4)\n",
    "    ulist.add(10)\n",
    "    ulist.add(55)\n",
    "    ulist.print()\n",
    "    print(f\"size: {ulist.size()}\")\n",
    "    \n",
    "    olist = OrderedLinkList()\n",
    "    olist.add(5)\n",
    "    olist.add(2)\n",
    "    olist.add(3)\n",
    "    olist.add(1)\n",
    "    olist.add(4)\n",
    "    olist.print()\n",
    "    print(olist.search(5))\n",
    "    \n",
    "    olist2 = OrderedList()\n",
    "    olist2.add(5)\n",
    "    olist2.add(2)\n",
    "    olist2.add(3)\n",
    "    olist2.add(1)\n",
    "    olist2.add(4)\n",
    "    olist2.print()\n",
    "    print(olist2.search(5))\n",
    "    \n",
    "    \n",
    "main()\n",
    "        "
   ],
   "metadata": {
    "collapsed": false,
    "ExecuteTime": {
     "end_time": "2024-03-01T08:31:29.555972Z",
     "start_time": "2024-03-01T08:31:29.535144Z"
    }
   },
   "id": "f1dcae847476178c",
   "execution_count": 11
  },
  {
   "cell_type": "markdown",
   "source": [
    "## Cv.3"
   ],
   "metadata": {
    "collapsed": false
   },
   "id": "c5b9e69d1ff06a4e"
  },
  {
   "cell_type": "markdown",
   "source": [
    "### Binary search"
   ],
   "metadata": {
    "collapsed": false
   },
   "id": "2755bc5b5bf8461d"
  },
  {
   "cell_type": "code",
   "outputs": [
    {
     "name": "stdout",
     "output_type": "stream",
     "text": [
      "[2, 19, 46, 71, 79, 79, 83, 84, 87, 103, 114, 121, 142, 149, 160, 186, 192, 194, 224, 226, 231, 233, 236, 251, 276, 287, 296, 299, 308, 308, 328, 330, 349, 353, 362, 363, 374, 378, 383, 398, 402, 414, 434, 443, 444, 448, 466, 475, 477, 487, 499, 519, 535, 540, 545, 550, 552, 557, 558, 577, 593, 595, 614, 618, 628, 635, 641, 651, 660, 661, 661, 685, 687, 696, 699, 699, 714, 717, 723, 735, 746, 765, 782, 784, 786, 803, 806, 813, 868, 886, 889, 910, 923, 929, 962, 967, 976, 977, 984, 999]\n",
      "Item 3 not found\n"
     ]
    }
   ],
   "source": [
    "from random import randint\n",
    "\n",
    "def create_list(size):\n",
    "    return [randint(0, 1000) for _ in range(size)]\n",
    "\n",
    "def binary_search(list, item):\n",
    "    low = 0\n",
    "    high = len(list) - 1\n",
    "    while low <= high:\n",
    "        mid = (low + high) // 2\n",
    "        guess = list[mid]\n",
    "        if guess == item:\n",
    "            return f\"Item {item} found at index {mid}\"\n",
    "        if guess > item:\n",
    "            high = mid - 1\n",
    "        else:\n",
    "            low = mid + 1\n",
    "    return f\"Item {item} not found\"\n",
    "    \n",
    "    \n",
    "    \n",
    "def main():\n",
    "    list = create_list(100)\n",
    "    list.sort()\n",
    "    print(list)\n",
    "    print(binary_search(list, 3))\n",
    "\n",
    "main()"
   ],
   "metadata": {
    "collapsed": false,
    "ExecuteTime": {
     "end_time": "2024-03-01T08:47:19.720374Z",
     "start_time": "2024-03-01T08:47:19.711168Z"
    }
   },
   "id": "b4378ac4cf0594e4",
   "execution_count": 56
  }
 ],
 "metadata": {
  "kernelspec": {
   "display_name": "Python 3",
   "language": "python",
   "name": "python3"
  },
  "language_info": {
   "codemirror_mode": {
    "name": "ipython",
    "version": 2
   },
   "file_extension": ".py",
   "mimetype": "text/x-python",
   "name": "python",
   "nbconvert_exporter": "python",
   "pygments_lexer": "ipython2",
   "version": "2.7.6"
  }
 },
 "nbformat": 4,
 "nbformat_minor": 5
}
