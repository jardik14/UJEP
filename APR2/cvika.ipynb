{
 "cells": [
  {
   "cell_type": "markdown",
   "source": [
    "# APR2"
   ],
   "metadata": {
    "collapsed": false
   },
   "id": "f134c20d18a7abd3"
  },
  {
   "cell_type": "markdown",
   "source": [
    "##  Cv.1"
   ],
   "metadata": {
    "collapsed": false
   },
   "id": "53c54964a01b0611"
  },
  {
   "cell_type": "markdown",
   "source": [
    "## Cv.1 - ukoly"
   ],
   "metadata": {
    "collapsed": false
   },
   "id": "7d6f37bf80519679"
  },
  {
   "cell_type": "markdown",
   "source": [
    "### DCv.1 - Student"
   ],
   "metadata": {
    "collapsed": false
   },
   "id": "ce2cac8ade30b94f"
  },
  {
   "cell_type": "code",
   "outputs": [
    {
     "name": "stdout",
     "output_type": "stream",
     "text": [
      "Id: 1, Fullname: Marko Markovic, Grades: [1, 1, 2, 1]\n",
      "znamky: [1, 1, 2, 1]\n",
      "Id: 2, Fullname: Janko Jankovic, Grades: [5, 5, 5, 5]\n",
      "znamky: [3, 3, 3, 3]\n",
      "Id: 3, Fullname: Milan Milanovic, Grades: [3, 4, 5, 3]\n",
      "znamky: [3, 4, 3, 3]\n",
      "Id: 4, Fullname: Nikola Nikolic, Grades: [2, 2, 3, 2]\n",
      "znamky: [2, 2, 3, 2]\n",
      "Id: 5, Fullname: Petar Petrovic, Grades: [4, 4, 4, 4]\n",
      "znamky: [4, 4, 4, 4]\n",
      "Id: 1, Fullname: Marko Markovic, Grades: [1, 1, 2, 1]\n",
      "Id: 2, Fullname: Janko Jankovic, Grades: [3, 3, 3, 3]\n",
      "Id: 3, Fullname: Milan Milanovic, Grades: [3, 4, 3, 3]\n",
      "Id: 4, Fullname: Nikola Nikolic, Grades: [2, 2, 3, 2]\n",
      "Id: 5, Fullname: Petar Petrovic, Grades: [4, 4, 4, 4]\n"
     ]
    }
   ],
   "source": [
    "class Student:\n",
    "    def __init__(self, student_id, fullname, grades):\n",
    "        self._student_id = student_id\n",
    "        self._fullname = fullname\n",
    "        self._grades = grades\n",
    "        \n",
    "    @property\n",
    "    def student_id(self):\n",
    "        return self._student_id\n",
    "    \n",
    "    @student_id.setter\n",
    "    def student_id(self, student_id):\n",
    "        self._student_id = student_id\n",
    "        \n",
    "    @property\n",
    "    def fullname(self):\n",
    "        return self._fullname\n",
    "    \n",
    "    @fullname.setter\n",
    "    def fullname(self, fullname):\n",
    "        self._fullname = fullname\n",
    "        \n",
    "    @property\n",
    "    def grades(self):\n",
    "        return self._grades\n",
    "    \n",
    "    @grades.setter\n",
    "    def grades(self, grades):\n",
    "        self._grades = grades\n",
    "        \n",
    "def main():\n",
    "    studenti = []\n",
    "    studenti.append(Student(1, \"Marko Markovic\", [1, 1, 2, 1]))\n",
    "    studenti.append(Student(2, \"Janko Jankovic\", [5, 5, 5, 5]))\n",
    "    studenti.append(Student(3, \"Milan Milanovic\", [3, 4, 5, 3]))\n",
    "    studenti.append(Student(4, \"Nikola Nikolic\", [2, 2, 3, 2]))\n",
    "    studenti.append(Student(5, \"Petar Petrovic\", [4, 4, 4, 4]))\n",
    "    \n",
    "    for student in studenti:\n",
    "        print(f\"Id: {student.student_id}, Fullname: {student.fullname}, Grades: {student.grades}\")\n",
    "        znamky = student.grades\n",
    "        for i in range(len(znamky)):\n",
    "            if znamky[i] > 4:\n",
    "                znamky[i] = 3\n",
    "        print(f\"znamky: {znamky}\")\n",
    "        student.grades = znamky\n",
    "        \n",
    "    for student in studenti:\n",
    "        print(f\"Id: {student.student_id}, Fullname: {student.fullname}, Grades: {student.grades}\")\n",
    "            \n",
    "    \n",
    "main()"
   ],
   "metadata": {
    "collapsed": false,
    "ExecuteTime": {
     "end_time": "2024-02-29T13:08:50.155061Z",
     "start_time": "2024-02-29T13:08:50.041747Z"
    }
   },
   "id": "5a229ad11b5ffdad",
   "execution_count": 1
  },
  {
   "cell_type": "markdown",
   "source": [
    "### DCv.2 - Knihovna pro parsování kurzů kryptoměn"
   ],
   "metadata": {
    "collapsed": false
   },
   "id": "e3e3fa8abcf1691f"
  },
  {
   "cell_type": "code",
   "outputs": [],
   "source": [
    "from selenium import webdriver\n",
    "from selenium.webdriver.chrome.options import Options\n",
    "from bs4 import BeautifulSoup\n",
    "\n",
    "url = \"https://www.kurzy.cz/kryptomeny/seznam-kryptomen/\"\n",
    "options = webdriver.ChromeOptions()\n",
    "options.add_argument(\"headless\")\n",
    "driver = webdriver.Chrome(options)\n",
    "driver.get(url)"
   ],
   "metadata": {
    "collapsed": false,
    "ExecuteTime": {
     "end_time": "2024-02-28T12:13:52.534379Z",
     "start_time": "2024-02-28T12:13:45.390519Z"
    }
   },
   "id": "70eede7cca52853c",
   "execution_count": 8
  },
  {
   "cell_type": "code",
   "outputs": [
    {
     "name": "stderr",
     "output_type": "stream",
     "text": [
      "There was an error managing chromedriver (error sending request for url (https://googlechromelabs.github.io/chrome-for-testing/known-good-versions-with-downloads.json): error trying to connect: dns error: Není znám žádný takový hostitel. (os error 11001)); using driver found in the cache\n",
      "Error sending stats to Plausible: error sending request for url (https://plausible.io/api/event): error trying to connect: dns error: Není znám žádný takový hostitel. (os error 11001)\n"
     ]
    },
    {
     "ename": "WebDriverException",
     "evalue": "Message: unknown error: net::ERR_NAME_NOT_RESOLVED\n  (Session info: chrome-headless-shell=122.0.6261.70)\nStacktrace:\n\tGetHandleVerifier [0x00007FF6B8D1AD22+56930]\n\t(No symbol) [0x00007FF6B8C8F622]\n\t(No symbol) [0x00007FF6B8B442E5]\n\t(No symbol) [0x00007FF6B8B4011A]\n\t(No symbol) [0x00007FF6B8B329F4]\n\t(No symbol) [0x00007FF6B8B33D29]\n\t(No symbol) [0x00007FF6B8B32CF3]\n\t(No symbol) [0x00007FF6B8B31EF4]\n\t(No symbol) [0x00007FF6B8B31E11]\n\t(No symbol) [0x00007FF6B8B30625]\n\t(No symbol) [0x00007FF6B8B30EDC]\n\t(No symbol) [0x00007FF6B8B469FD]\n\t(No symbol) [0x00007FF6B8BC8B47]\n\t(No symbol) [0x00007FF6B8BABC9A]\n\t(No symbol) [0x00007FF6B8BC81E2]\n\t(No symbol) [0x00007FF6B8BABA43]\n\t(No symbol) [0x00007FF6B8B7D438]\n\t(No symbol) [0x00007FF6B8B7E4D1]\n\tGetHandleVerifier [0x00007FF6B9096AAD+3709933]\n\tGetHandleVerifier [0x00007FF6B90EFFED+4075821]\n\tGetHandleVerifier [0x00007FF6B90E817F+4043455]\n\tGetHandleVerifier [0x00007FF6B8DB9756+706710]\n\t(No symbol) [0x00007FF6B8C9B8FF]\n\t(No symbol) [0x00007FF6B8C96AE4]\n\t(No symbol) [0x00007FF6B8C96C3C]\n\t(No symbol) [0x00007FF6B8C868F4]\n\tBaseThreadInitThunk [0x00007FFBA108257D+29]\n\tRtlUserThreadStart [0x00007FFBA1CEAA58+40]\n",
     "output_type": "error",
     "traceback": [
      "\u001B[1;31m---------------------------------------------------------------------------\u001B[0m",
      "\u001B[1;31mWebDriverException\u001B[0m                        Traceback (most recent call last)",
      "Cell \u001B[1;32mIn[1], line 39\u001B[0m\n\u001B[0;32m     36\u001B[0m     \u001B[38;5;28mprint\u001B[39m(\u001B[38;5;124mf\u001B[39m\u001B[38;5;124m\"\u001B[39m\u001B[38;5;124mLitecoin: \u001B[39m\u001B[38;5;132;01m{\u001B[39;00mlitecoin\u001B[38;5;241m.\u001B[39mget_price()\u001B[38;5;132;01m}\u001B[39;00m\u001B[38;5;124m Kč\u001B[39m\u001B[38;5;124m\"\u001B[39m)\n\u001B[0;32m     37\u001B[0m     litecoin\u001B[38;5;241m.\u001B[39m\u001B[38;5;21m__del__\u001B[39m()\n\u001B[1;32m---> 39\u001B[0m \u001B[43mmain\u001B[49m\u001B[43m(\u001B[49m\u001B[43m)\u001B[49m\n",
      "Cell \u001B[1;32mIn[1], line 27\u001B[0m, in \u001B[0;36mmain\u001B[1;34m()\u001B[0m\n\u001B[0;32m     26\u001B[0m \u001B[38;5;28;01mdef\u001B[39;00m \u001B[38;5;21mmain\u001B[39m():\n\u001B[1;32m---> 27\u001B[0m     bitcoin \u001B[38;5;241m=\u001B[39m \u001B[43mCryproCurrencyParser\u001B[49m\u001B[43m(\u001B[49m\u001B[38;5;124;43m\"\u001B[39;49m\u001B[38;5;124;43mBitcoin\u001B[39;49m\u001B[38;5;124;43m\"\u001B[39;49m\u001B[43m,\u001B[49m\u001B[43m \u001B[49m\u001B[38;5;124;43m\"\u001B[39;49m\u001B[38;5;124;43mbtc\u001B[39;49m\u001B[38;5;124;43m\"\u001B[39;49m\u001B[43m,\u001B[49m\u001B[43m \u001B[49m\u001B[38;5;124;43m\"\u001B[39;49m\u001B[38;5;124;43mhttps://www.kurzy.cz/kryptomeny/seznam-kryptomen/\u001B[39;49m\u001B[38;5;124;43m\"\u001B[39;49m\u001B[43m)\u001B[49m\n\u001B[0;32m     28\u001B[0m     \u001B[38;5;28mprint\u001B[39m(\u001B[38;5;124mf\u001B[39m\u001B[38;5;124m\"\u001B[39m\u001B[38;5;124mBitcoin: \u001B[39m\u001B[38;5;132;01m{\u001B[39;00mbitcoin\u001B[38;5;241m.\u001B[39mget_price()\u001B[38;5;132;01m}\u001B[39;00m\u001B[38;5;124m Kč\u001B[39m\u001B[38;5;124m\"\u001B[39m)\n\u001B[0;32m     29\u001B[0m     bitcoin\u001B[38;5;241m.\u001B[39m\u001B[38;5;21m__del__\u001B[39m()\n",
      "Cell \u001B[1;32mIn[1], line 14\u001B[0m, in \u001B[0;36mCryproCurrencyParser.__init__\u001B[1;34m(self, name, abbreviation, url)\u001B[0m\n\u001B[0;32m     12\u001B[0m options\u001B[38;5;241m.\u001B[39madd_argument(\u001B[38;5;124m\"\u001B[39m\u001B[38;5;124mheadless\u001B[39m\u001B[38;5;124m\"\u001B[39m)\n\u001B[0;32m     13\u001B[0m \u001B[38;5;28mself\u001B[39m\u001B[38;5;241m.\u001B[39m_driver \u001B[38;5;241m=\u001B[39m webdriver\u001B[38;5;241m.\u001B[39mChrome(options)\n\u001B[1;32m---> 14\u001B[0m \u001B[38;5;28;43mself\u001B[39;49m\u001B[38;5;241;43m.\u001B[39;49m\u001B[43m_driver\u001B[49m\u001B[38;5;241;43m.\u001B[39;49m\u001B[43mget\u001B[49m\u001B[43m(\u001B[49m\u001B[38;5;28;43mself\u001B[39;49m\u001B[38;5;241;43m.\u001B[39;49m\u001B[43m_url\u001B[49m\u001B[43m)\u001B[49m\n\u001B[0;32m     15\u001B[0m \u001B[38;5;28mself\u001B[39m\u001B[38;5;241m.\u001B[39m_html \u001B[38;5;241m=\u001B[39m \u001B[38;5;28mself\u001B[39m\u001B[38;5;241m.\u001B[39m_driver\u001B[38;5;241m.\u001B[39mpage_source\n\u001B[0;32m     16\u001B[0m \u001B[38;5;28mself\u001B[39m\u001B[38;5;241m.\u001B[39m_soup \u001B[38;5;241m=\u001B[39m BeautifulSoup(\u001B[38;5;28mself\u001B[39m\u001B[38;5;241m.\u001B[39m_html, \u001B[38;5;124m\"\u001B[39m\u001B[38;5;124mhtml.parser\u001B[39m\u001B[38;5;124m\"\u001B[39m)\n",
      "File \u001B[1;32m~\\AppData\\Local\\Packages\\PythonSoftwareFoundation.Python.3.10_qbz5n2kfra8p0\\LocalCache\\local-packages\\Python310\\site-packages\\selenium\\webdriver\\remote\\webdriver.py:356\u001B[0m, in \u001B[0;36mWebDriver.get\u001B[1;34m(self, url)\u001B[0m\n\u001B[0;32m    354\u001B[0m \u001B[38;5;28;01mdef\u001B[39;00m \u001B[38;5;21mget\u001B[39m(\u001B[38;5;28mself\u001B[39m, url: \u001B[38;5;28mstr\u001B[39m) \u001B[38;5;241m-\u001B[39m\u001B[38;5;241m>\u001B[39m \u001B[38;5;28;01mNone\u001B[39;00m:\n\u001B[0;32m    355\u001B[0m \u001B[38;5;250m    \u001B[39m\u001B[38;5;124;03m\"\"\"Loads a web page in the current browser session.\"\"\"\u001B[39;00m\n\u001B[1;32m--> 356\u001B[0m     \u001B[38;5;28;43mself\u001B[39;49m\u001B[38;5;241;43m.\u001B[39;49m\u001B[43mexecute\u001B[49m\u001B[43m(\u001B[49m\u001B[43mCommand\u001B[49m\u001B[38;5;241;43m.\u001B[39;49m\u001B[43mGET\u001B[49m\u001B[43m,\u001B[49m\u001B[43m \u001B[49m\u001B[43m{\u001B[49m\u001B[38;5;124;43m\"\u001B[39;49m\u001B[38;5;124;43murl\u001B[39;49m\u001B[38;5;124;43m\"\u001B[39;49m\u001B[43m:\u001B[49m\u001B[43m \u001B[49m\u001B[43murl\u001B[49m\u001B[43m}\u001B[49m\u001B[43m)\u001B[49m\n",
      "File \u001B[1;32m~\\AppData\\Local\\Packages\\PythonSoftwareFoundation.Python.3.10_qbz5n2kfra8p0\\LocalCache\\local-packages\\Python310\\site-packages\\selenium\\webdriver\\remote\\webdriver.py:347\u001B[0m, in \u001B[0;36mWebDriver.execute\u001B[1;34m(self, driver_command, params)\u001B[0m\n\u001B[0;32m    345\u001B[0m response \u001B[38;5;241m=\u001B[39m \u001B[38;5;28mself\u001B[39m\u001B[38;5;241m.\u001B[39mcommand_executor\u001B[38;5;241m.\u001B[39mexecute(driver_command, params)\n\u001B[0;32m    346\u001B[0m \u001B[38;5;28;01mif\u001B[39;00m response:\n\u001B[1;32m--> 347\u001B[0m     \u001B[38;5;28;43mself\u001B[39;49m\u001B[38;5;241;43m.\u001B[39;49m\u001B[43merror_handler\u001B[49m\u001B[38;5;241;43m.\u001B[39;49m\u001B[43mcheck_response\u001B[49m\u001B[43m(\u001B[49m\u001B[43mresponse\u001B[49m\u001B[43m)\u001B[49m\n\u001B[0;32m    348\u001B[0m     response[\u001B[38;5;124m\"\u001B[39m\u001B[38;5;124mvalue\u001B[39m\u001B[38;5;124m\"\u001B[39m] \u001B[38;5;241m=\u001B[39m \u001B[38;5;28mself\u001B[39m\u001B[38;5;241m.\u001B[39m_unwrap_value(response\u001B[38;5;241m.\u001B[39mget(\u001B[38;5;124m\"\u001B[39m\u001B[38;5;124mvalue\u001B[39m\u001B[38;5;124m\"\u001B[39m, \u001B[38;5;28;01mNone\u001B[39;00m))\n\u001B[0;32m    349\u001B[0m     \u001B[38;5;28;01mreturn\u001B[39;00m response\n",
      "File \u001B[1;32m~\\AppData\\Local\\Packages\\PythonSoftwareFoundation.Python.3.10_qbz5n2kfra8p0\\LocalCache\\local-packages\\Python310\\site-packages\\selenium\\webdriver\\remote\\errorhandler.py:229\u001B[0m, in \u001B[0;36mErrorHandler.check_response\u001B[1;34m(self, response)\u001B[0m\n\u001B[0;32m    227\u001B[0m         alert_text \u001B[38;5;241m=\u001B[39m value[\u001B[38;5;124m\"\u001B[39m\u001B[38;5;124malert\u001B[39m\u001B[38;5;124m\"\u001B[39m]\u001B[38;5;241m.\u001B[39mget(\u001B[38;5;124m\"\u001B[39m\u001B[38;5;124mtext\u001B[39m\u001B[38;5;124m\"\u001B[39m)\n\u001B[0;32m    228\u001B[0m     \u001B[38;5;28;01mraise\u001B[39;00m exception_class(message, screen, stacktrace, alert_text)  \u001B[38;5;66;03m# type: ignore[call-arg]  # mypy is not smart enough here\u001B[39;00m\n\u001B[1;32m--> 229\u001B[0m \u001B[38;5;28;01mraise\u001B[39;00m exception_class(message, screen, stacktrace)\n",
      "\u001B[1;31mWebDriverException\u001B[0m: Message: unknown error: net::ERR_NAME_NOT_RESOLVED\n  (Session info: chrome-headless-shell=122.0.6261.70)\nStacktrace:\n\tGetHandleVerifier [0x00007FF6B8D1AD22+56930]\n\t(No symbol) [0x00007FF6B8C8F622]\n\t(No symbol) [0x00007FF6B8B442E5]\n\t(No symbol) [0x00007FF6B8B4011A]\n\t(No symbol) [0x00007FF6B8B329F4]\n\t(No symbol) [0x00007FF6B8B33D29]\n\t(No symbol) [0x00007FF6B8B32CF3]\n\t(No symbol) [0x00007FF6B8B31EF4]\n\t(No symbol) [0x00007FF6B8B31E11]\n\t(No symbol) [0x00007FF6B8B30625]\n\t(No symbol) [0x00007FF6B8B30EDC]\n\t(No symbol) [0x00007FF6B8B469FD]\n\t(No symbol) [0x00007FF6B8BC8B47]\n\t(No symbol) [0x00007FF6B8BABC9A]\n\t(No symbol) [0x00007FF6B8BC81E2]\n\t(No symbol) [0x00007FF6B8BABA43]\n\t(No symbol) [0x00007FF6B8B7D438]\n\t(No symbol) [0x00007FF6B8B7E4D1]\n\tGetHandleVerifier [0x00007FF6B9096AAD+3709933]\n\tGetHandleVerifier [0x00007FF6B90EFFED+4075821]\n\tGetHandleVerifier [0x00007FF6B90E817F+4043455]\n\tGetHandleVerifier [0x00007FF6B8DB9756+706710]\n\t(No symbol) [0x00007FF6B8C9B8FF]\n\t(No symbol) [0x00007FF6B8C96AE4]\n\t(No symbol) [0x00007FF6B8C96C3C]\n\t(No symbol) [0x00007FF6B8C868F4]\n\tBaseThreadInitThunk [0x00007FFBA108257D+29]\n\tRtlUserThreadStart [0x00007FFBA1CEAA58+40]\n"
     ]
    }
   ],
   "source": [
    "from selenium import webdriver\n",
    "from selenium.webdriver.chrome.options import Options\n",
    "from bs4 import BeautifulSoup\n",
    "\n",
    "\n",
    "class CryproCurrencyParser:\n",
    "    def __init__(self, name, abbreviation, url):\n",
    "        self._name = name\n",
    "        self._abbreviation = abbreviation\n",
    "        self._url = url\n",
    "        options = webdriver.ChromeOptions()\n",
    "        options.add_argument(\"headless\")\n",
    "        self._driver = webdriver.Chrome(options)\n",
    "        self._driver.get(self._url)\n",
    "        self._html = self._driver.page_source\n",
    "        self._soup = BeautifulSoup(self._html, \"html.parser\")\n",
    "        \n",
    "    def get_price(self):\n",
    "        price = self._soup.find(\"span\", id=f\"id_{self._abbreviation}_cz\")\n",
    "        return price.text\n",
    "    \n",
    "    def __del__(self):\n",
    "        self._driver.quit()\n",
    "\n",
    "\n",
    "def main():\n",
    "    bitcoin = CryproCurrencyParser(\"Bitcoin\", \"btc\", \"https://www.kurzy.cz/kryptomeny/seznam-kryptomen/\")\n",
    "    print(f\"Bitcoin: {bitcoin.get_price()} Kč\")\n",
    "    bitcoin.__del__()\n",
    "    \n",
    "    ethereum = CryproCurrencyParser(\"Ethereum\", \"eth\", \"https://www.kurzy.cz/kryptomeny/seznam-kryptomen/\")\n",
    "    print(f\"Ethereum: {ethereum.get_price()} Kč\")\n",
    "    ethereum.__del__()\n",
    "    \n",
    "    litecoin = CryproCurrencyParser(\"Litecoin\", \"ltc\", \"https://www.kurzy.cz/kryptomeny/seznam-kryptomen/\")\n",
    "    print(f\"Litecoin: {litecoin.get_price()} Kč\")\n",
    "    litecoin.__del__()\n",
    "    \n",
    "main()"
   ],
   "metadata": {
    "collapsed": false,
    "ExecuteTime": {
     "end_time": "2024-02-29T16:45:20.846715Z",
     "start_time": "2024-02-29T16:45:14.824932Z"
    }
   },
   "id": "4fdf113362304d07",
   "execution_count": 1
  },
  {
   "cell_type": "markdown",
   "source": [
    "### DCv.3 - Dekorátory"
   ],
   "metadata": {
    "collapsed": false
   },
   "id": "cd86aa7e257e5d72"
  },
  {
   "cell_type": "code",
   "outputs": [],
   "source": [
    "def log_decorator(func):\n",
    "    def wrapper(*args, **kwargs):\n",
    "        print(f\"Calling function {func.__name__} with args {args} and kwargs {kwargs}\")\n",
    "        result = func(*args, **kwargs)\n",
    "        print(f\"Function {func.__name__} returned {result}\")\n",
    "        return result\n",
    "    return wrapper"
   ],
   "metadata": {
    "collapsed": false
   },
   "id": "6fd37ccfdebb5c4b"
  },
  {
   "cell_type": "markdown",
   "source": [
    "### DCv.5 - Sčítání fotek"
   ],
   "metadata": {
    "collapsed": false
   },
   "id": "dc7fa902a8d7e4a3"
  },
  {
   "cell_type": "code",
   "outputs": [],
   "source": [
    "from PIL import Image\n",
    "\n",
    "class Photo:\n",
    "    def __init__(self, path):\n",
    "        self._path = path\n",
    "        self._image = Image.open(self._path)\n",
    "        \n",
    "    def __add__(self, other):\n",
    "        new_image = Image.new(\"RGB\", (self._image.width + other._image.width, self._image.height))\n",
    "        new_image.paste(self._image, (0, 0))\n",
    "        new_image.paste(other._image, (self._image.width, 0))\n",
    "        return new_image\n",
    "    \n",
    "    def __sub__(self, other):\n",
    "        new_image = Image.new(\"RGB\", (self._image.width - other._image.width, self._image.height))\n",
    "        new_image.paste(self._image, (0, 0))\n",
    "        new_image.paste(other._image, (self._image.width, 0))\n",
    "        return new_image\n",
    "    \n",
    "    def __str__(self):\n",
    "        return f\"Image: {self._path}\"\n",
    "    \n",
    "    def __int__ (self):\n",
    "        return self._image.width * self._image.height\n",
    "    \n",
    "    def __gt__(self, other):\n",
    "        return int(self) > int(other)\n",
    "    \n",
    "    def __lt__(self, other):\n",
    "        return int(self) < int(other)\n",
    "    \n",
    "    def __eq__(self, other):\n",
    "        return int(self) == int(other)\n",
    "    \n",
    "    \n",
    "    def show(self):\n",
    "        self._image.show()\n",
    "        \n",
    "    \n",
    "def main():\n",
    "    puppy = Photo(\"puppy.jpeg\")\n",
    "    kitten = Photo(\"kitten.jpeg\")\n",
    "    new_image = kitten - puppy\n",
    "    new_image.show()\n",
    "    \n",
    "main()"
   ],
   "metadata": {
    "collapsed": false,
    "ExecuteTime": {
     "end_time": "2024-03-01T07:22:32.436970Z",
     "start_time": "2024-03-01T07:22:27.799832Z"
    }
   },
   "id": "c52af5009829c66",
   "execution_count": 1
  },
  {
   "cell_type": "markdown",
   "source": [
    "## Cv.2"
   ],
   "metadata": {
    "collapsed": false
   },
   "id": "23575128e6d73a19"
  },
  {
   "cell_type": "markdown",
   "source": [
    "### Queue"
   ],
   "metadata": {
    "collapsed": false
   },
   "id": "e154525f2964d754"
  },
  {
   "cell_type": "code",
   "outputs": [
    {
     "name": "stdout",
     "output_type": "stream",
     "text": [
      "2\n",
      "2\n",
      "3\n",
      "3\n"
     ]
    }
   ],
   "source": [
    "class Queue:\n",
    "    def __init__(self, memory: int, items = list(): list):\n",
    "        assert len(items) <=memory, \"Memory exceeded\"\n",
    "        self._memory = memory\n",
    "        self._items = items\n",
    "        \n",
    "    def is_empty(self):\n",
    "        return self._items == []\n",
    "    \n",
    "    def enqueue(self, item):\n",
    "        if self.size()+1 > self._memory:\n",
    "            raise Exception(\"Memory exceeded\")\n",
    "        self._items.insert(0, item)\n",
    "        \n",
    "    def dequeue(self):\n",
    "        return self._items.pop()\n",
    "        \n",
    "    def front(self):\n",
    "        return self._items[0]\n",
    "    \n",
    "    def rear(self):\n",
    "        return self._items[0]\n",
    "    \n",
    "    def size(self):\n",
    "        return len(self._items)\n",
    "    \n",
    "    def print(self):\n",
    "        for e in self._items:\n",
    "            print(e)\n",
    "    \n",
    "    \n",
    "    \n",
    "    \n",
    "    \n",
    "q = Queue(5, [1,2])\n",
    "print(q.size())\n",
    "q.enqueue(3)\n",
    "print(q.dequeue())\n",
    "print(q.front())\n",
    "print(q.rear())"
   ],
   "metadata": {
    "collapsed": false,
    "ExecuteTime": {
     "end_time": "2024-03-01T07:34:34.255117Z",
     "start_time": "2024-03-01T07:34:34.237504Z"
    }
   },
   "id": "253336826bc257d1",
   "execution_count": 12
  },
  {
   "cell_type": "markdown",
   "source": [
    "### Vyrovnané závorky"
   ],
   "metadata": {
    "collapsed": false
   },
   "id": "a0c2df3dcf59b79a"
  },
  {
   "cell_type": "code",
   "outputs": [
    {
     "name": "stdout",
     "output_type": "stream",
     "text": [
      "True\n",
      "True\n",
      "True\n",
      "False\n",
      "False\n"
     ]
    }
   ],
   "source": [
    "class Stack:\n",
    "    def __init__(self):\n",
    "        self._items = []\n",
    "        \n",
    "    def push(self,item):\n",
    "        self._items.append(item)\n",
    "        \n",
    "    def pop(self):\n",
    "        return self._items.pop()\n",
    "    \n",
    "    def top(self):\n",
    "        return self._items[-1]\n",
    "    \n",
    "    def is_empty(self):\n",
    "        return self._items == []\n",
    "    \n",
    "def vyrovnane(expr):\n",
    "    pairs = {\n",
    "        \"(\":\")\",\n",
    "        \"[\":\"]\",\n",
    "        \"{\":\"}\"\n",
    "    }\n",
    "    stack = Stack()\n",
    "    for e in expr:\n",
    "        if e in pairs.keys() or e in pairs.values():\n",
    "            if e in pairs.keys():\n",
    "                stack.push(e)\n",
    "            else:\n",
    "                if stack.is_empty():\n",
    "                    return False\n",
    "                if not e == pairs[stack.pop()]:\n",
    "                    return False \n",
    "    if not stack.is_empty():\n",
    "        return False\n",
    "    return True\n",
    "            \n",
    "    \n",
    "print(vyrovnane(\"[()]\"))\n",
    "print(vyrovnane(\"{[][]()((([])))}\"))\n",
    "print(vyrovnane(\"2 * [4 + 5 * ( 2 + 1 ) ]\"))\n",
    "print(vyrovnane(\"(\"))\n",
    "print(vyrovnane(\")\"))"
   ],
   "metadata": {
    "collapsed": false,
    "ExecuteTime": {
     "end_time": "2024-03-01T08:07:11.685606Z",
     "start_time": "2024-03-01T08:07:11.678387Z"
    }
   },
   "id": "471be8e1edf31887",
   "execution_count": 22
  },
  {
   "cell_type": "markdown",
   "source": [
    "## Cv.2 - ukoly"
   ],
   "metadata": {
    "collapsed": false
   },
   "id": "5cf92b32144cfd8"
  },
  {
   "cell_type": "markdown",
   "source": [
    "### DCv.1 - Dvojitá fronta"
   ],
   "metadata": {
    "collapsed": false
   },
   "id": "ba62808ab74d34ca"
  },
  {
   "cell_type": "code",
   "outputs": [],
   "source": [
    "class Deque:\n",
    "    def __init__(self):\n",
    "        self._items = []\n",
    "        \n",
    "    def is_empty(self):\n",
    "        return self._items == []\n",
    "    \n",
    "    def add_front(self, item):\n",
    "        self._items.append(item)\n",
    "        \n",
    "    def add_rear(self, item):\n",
    "        self._items.insert(0, item)\n",
    "        \n",
    "    def remove_front(self):\n",
    "        return self._items.pop()\n",
    "    \n",
    "    def remove_rear(self):\n",
    "        return self._items.pop(0)\n",
    "    \n",
    "    def size(self):\n",
    "        return len(self._items)"
   ],
   "metadata": {
    "collapsed": false,
    "ExecuteTime": {
     "end_time": "2024-02-28T14:48:06.405263Z",
     "start_time": "2024-02-28T14:48:06.394291Z"
    }
   },
   "id": "9ecdca3a9ce89358",
   "execution_count": 2
  },
  {
   "cell_type": "markdown",
   "source": [
    "### DCv.2 - Palindromy"
   ],
   "metadata": {
    "collapsed": false
   },
   "id": "132f6f1238b4aae3"
  },
  {
   "cell_type": "code",
   "outputs": [
    {
     "name": "stdout",
     "output_type": "stream",
     "text": [
      "True\n",
      "False\n"
     ]
    }
   ],
   "source": [
    "def is_palindrome(word):\n",
    "    deque = Deque()\n",
    "    for letter in word:\n",
    "        deque.add_rear(letter)\n",
    "        \n",
    "    while deque.size() > 1:\n",
    "        if deque.remove_front() != deque.remove_rear():\n",
    "            return False\n",
    "    return True\n",
    "\n",
    "def main():\n",
    "    print(is_palindrome(\"radar\"))\n",
    "    print(is_palindrome(\"hello\"))\n",
    "    \n",
    "main()"
   ],
   "metadata": {
    "collapsed": false,
    "ExecuteTime": {
     "end_time": "2024-02-28T14:48:08.646714Z",
     "start_time": "2024-02-28T14:48:08.631749Z"
    }
   },
   "id": "d6a766bd8cedcfdd",
   "execution_count": 3
  },
  {
   "cell_type": "markdown",
   "source": [
    "### DCv.3 - Prioritní fronta"
   ],
   "metadata": {
    "collapsed": false
   },
   "id": "b35e59ff43a0d3d5"
  },
  {
   "cell_type": "code",
   "outputs": [
    {
     "name": "stdout",
     "output_type": "stream",
     "text": [
      "[5, 10, 1]\n",
      "10\n",
      "5\n",
      "1\n"
     ]
    }
   ],
   "source": [
    "class PriorityQueue:\n",
    "    def __init__(self):\n",
    "        self._items = []\n",
    "        \n",
    "        \n",
    "    def is_empty(self):\n",
    "        return self._items == []\n",
    "    \n",
    "    def insert(self, item):\n",
    "        self._items.append(item)\n",
    "\n",
    "    def remove(self):\n",
    "        max_index = 0\n",
    "        for i in range(1, len(self._items)):\n",
    "            if self._items[i] > self._items[max_index]:\n",
    "                max_index = i\n",
    "        return self._items.pop(max_index)\n",
    "    \n",
    "    def size(self):\n",
    "        return len(self._items)\n",
    "    \n",
    "    def __str__(self):\n",
    "        return str(self._items)\n",
    "    \n",
    "def main():\n",
    "    q = PriorityQueue()\n",
    "    q.insert(5)\n",
    "    q.insert(10)\n",
    "    q.insert(1)\n",
    "    print(q)\n",
    "    while not q.is_empty():\n",
    "        print(q.remove())\n",
    "        \n",
    "main()\n",
    "        "
   ],
   "metadata": {
    "collapsed": false,
    "ExecuteTime": {
     "end_time": "2024-03-01T08:32:40.420814Z",
     "start_time": "2024-03-01T08:32:40.409587Z"
    }
   },
   "id": "ef5f7b5814a2fb93",
   "execution_count": 12
  },
  {
   "cell_type": "markdown",
   "source": [
    "### DCv.4 - Notace"
   ],
   "metadata": {
    "collapsed": false
   },
   "id": "9ff5dc3e5683efb8"
  },
  {
   "cell_type": "code",
   "outputs": [
    {
     "name": "stdout",
     "output_type": "stream",
     "text": [
      "4\n",
      "5\n",
      "10\n"
     ]
    }
   ],
   "source": [
    "from queue import LifoQueue as Stack\n",
    "\n",
    "def calculate_prefix(expr):\n",
    "    expr = expr.split(\" \")\n",
    "    expr.reverse()\n",
    "    stack = Stack()\n",
    "    for e in expr:\n",
    "        if e.isdigit():\n",
    "            stack.put(e)\n",
    "        else:\n",
    "            a = stack.get()\n",
    "            b = stack.get()\n",
    "            stack.put(eval(f\"{a} {e} {b}\"))\n",
    "    return stack.get()\n",
    "\n",
    "def calculate_postfix(expr):\n",
    "    expr = expr.split(\" \")\n",
    "    stack = Stack()\n",
    "    for e in expr:\n",
    "        if e.isdigit():\n",
    "            stack.put(e)\n",
    "        else:\n",
    "            a = stack.get()\n",
    "            b = stack.get()\n",
    "            stack.put(eval(f\"{a} {e} {b}\"))\n",
    "    return stack.get()\n",
    "                \n",
    "            \n",
    "    \n",
    "        \n",
    "            \n",
    "def main():\n",
    "    print(calculate_prefix(\"+ 2 2\"))\n",
    "    print(calculate_prefix(\"+ 1 * 2 2\"))\n",
    "    print(calculate_prefix(\"+ * 2 3 4\"))\n",
    "    \n",
    "    \n",
    "main()"
   ],
   "metadata": {
    "collapsed": false,
    "ExecuteTime": {
     "end_time": "2024-03-01T08:25:50.576694Z",
     "start_time": "2024-03-01T08:25:50.564222Z"
    }
   },
   "id": "e0851e54a6b593b6",
   "execution_count": 10
  },
  {
   "cell_type": "markdown",
   "source": [
    "### DCv.5 - Seřazený seznam"
   ],
   "metadata": {
    "collapsed": false
   },
   "id": "3c692add8fdb16c2"
  },
  {
   "cell_type": "code",
   "outputs": [
    {
     "name": "stdout",
     "output_type": "stream",
     "text": [
      "55\n",
      "10\n",
      "4\n",
      "5\n",
      "size: 4\n",
      "1\n",
      "2\n",
      "3\n",
      "4\n",
      "5\n",
      "True\n",
      "1\n",
      "2\n",
      "3\n",
      "4\n",
      "5\n",
      "True\n"
     ]
    }
   ],
   "source": [
    "class Node:\n",
    "    def __init__(self, val):\n",
    "        self.val = val\n",
    "        self.next = None\n",
    "        \n",
    "\n",
    "class UnorderedLinkList():\n",
    "    def __init__(self):\n",
    "        self.head = None\n",
    "        \n",
    "    def is_empty(self):\n",
    "        return self.head is None\n",
    "    \n",
    "    def size(self):\n",
    "        size = 0\n",
    "        tmp = self.head\n",
    "        while not tmp is None:\n",
    "            size += 1\n",
    "            tmp = tmp.next\n",
    "        return size\n",
    "        \n",
    "    def add(self, item):\n",
    "        tmp = Node(item)\n",
    "        tmp.next = self.head\n",
    "        self.head = tmp\n",
    "        \n",
    "    def print(self):\n",
    "        if self.is_empty():\n",
    "            print(\"Empty\")\n",
    "            return\n",
    "        tmp = self.head\n",
    "        while not tmp is None:\n",
    "            print(tmp.val)\n",
    "            tmp = tmp.next\n",
    "            \n",
    "    \n",
    "class OrderedLinkList(UnorderedLinkList):\n",
    "    def add(self, item):\n",
    "        if self.is_empty():\n",
    "            tmp = Node(item)\n",
    "            tmp.next = self.head\n",
    "            self.head = tmp\n",
    "        else:\n",
    "            tmp = Node(item)\n",
    "            curr = self.head\n",
    "            prev = None\n",
    "            \n",
    "            while not curr is None:\n",
    "                if curr.val > item:\n",
    "                    break\n",
    "                prev, curr = curr, curr.next\n",
    "                \n",
    "            if prev is None:\n",
    "                tmp.next = self.head\n",
    "                self.head = tmp\n",
    "            else:\n",
    "                tmp.next = curr\n",
    "                prev.next = tmp\n",
    "            \n",
    "    def search(self, item):\n",
    "        tmp = self.head\n",
    "        while not tmp is None:\n",
    "            if item == tmp.val:\n",
    "                return True\n",
    "            if item < tmp.val:\n",
    "                return False\n",
    "            tmp = tmp.next\n",
    "        return False\n",
    "            \n",
    "                \n",
    "class OrderedList():\n",
    "    def __init__(self):\n",
    "        self.items = []\n",
    "        \n",
    "    def add(self, item):\n",
    "        self.items.append(item)\n",
    "        self.items.sort()\n",
    "        \n",
    "    def is_empty(self):\n",
    "        if self.items == []:\n",
    "            return True\n",
    "        return False\n",
    "    \n",
    "    def size(self):\n",
    "        return len(self.items)\n",
    "    \n",
    "    def remove(self,item):\n",
    "        self.items.remove(item)\n",
    "        \n",
    "    def search(self, item):\n",
    "        return item in self.items\n",
    "    \n",
    "    def pop(self):\n",
    "        return self.items.pop()\n",
    "    \n",
    "    def pop(self, pos):\n",
    "        return self.items.pop(pos)\n",
    "    \n",
    "    def index(self, item):\n",
    "        for i in range(self.size):\n",
    "            if item == self.items[i]:\n",
    "                return i\n",
    "        return -1\n",
    "    \n",
    "    def print(self):\n",
    "        for item in self.items:\n",
    "            print(item)\n",
    "    \n",
    "    \n",
    "    \n",
    "def main():\n",
    "    ulist = UnorderedLinkList()\n",
    "    ulist.add(5)\n",
    "    ulist.add(4)\n",
    "    ulist.add(10)\n",
    "    ulist.add(55)\n",
    "    ulist.print()\n",
    "    print(f\"size: {ulist.size()}\")\n",
    "    \n",
    "    olist = OrderedLinkList()\n",
    "    olist.add(5)\n",
    "    olist.add(2)\n",
    "    olist.add(3)\n",
    "    olist.add(1)\n",
    "    olist.add(4)\n",
    "    olist.print()\n",
    "    print(olist.search(5))\n",
    "    \n",
    "    olist2 = OrderedList()\n",
    "    olist2.add(5)\n",
    "    olist2.add(2)\n",
    "    olist2.add(3)\n",
    "    olist2.add(1)\n",
    "    olist2.add(4)\n",
    "    olist2.print()\n",
    "    print(olist2.search(5))\n",
    "    \n",
    "    \n",
    "main()\n",
    "        "
   ],
   "metadata": {
    "collapsed": false,
    "ExecuteTime": {
     "end_time": "2024-03-01T08:31:29.555972Z",
     "start_time": "2024-03-01T08:31:29.535144Z"
    }
   },
   "id": "f1dcae847476178c",
   "execution_count": 11
  },
  {
   "cell_type": "markdown",
   "source": [
    "## Cv.3"
   ],
   "metadata": {
    "collapsed": false
   },
   "id": "c5b9e69d1ff06a4e"
  },
  {
   "cell_type": "markdown",
   "source": [
    "### Max"
   ],
   "metadata": {
    "collapsed": false
   },
   "id": "578cd1b5f2f8f94b"
  },
  {
   "cell_type": "code",
   "outputs": [
    {
     "name": "stdout",
     "output_type": "stream",
     "text": [
      "10\n"
     ]
    }
   ],
   "source": [
    "def max(list):\n",
    "    max = list[0]\n",
    "    for e in list:\n",
    "        if e > max:\n",
    "            max = e\n",
    "    return max\n",
    "\n",
    "def max2(list):\n",
    "    list = sorted(list)\n",
    "    return list[-1]\n",
    "\n",
    "\n",
    "print(max([1,2,3,4,5,6,7,8,9,10]))"
   ],
   "metadata": {
    "collapsed": false,
    "ExecuteTime": {
     "end_time": "2024-03-08T07:18:45.285345Z",
     "start_time": "2024-03-08T07:18:45.263594Z"
    }
   },
   "id": "a7f7030f20a7def3",
   "execution_count": 1
  },
  {
   "cell_type": "markdown",
   "source": [
    "### k max"
   ],
   "metadata": {
    "collapsed": false
   },
   "id": "a920e574ea1ccdb2"
  },
  {
   "cell_type": "code",
   "outputs": [
    {
     "name": "stdout",
     "output_type": "stream",
     "text": [
      "[10, 8, 9]\n",
      "[10, 9, 8]\n",
      "[5, 5, 5]\n"
     ]
    }
   ],
   "source": [
    "def k_max(list, k):\n",
    "    list = sorted(list)\n",
    "    return list[-k]\n",
    "\n",
    "def k_max2(list, k: int):\n",
    "    max = list[:k]\n",
    "    minmax = min(max)\n",
    "    minmax_index = max.index(minmax)\n",
    "    for i in range(k, len(list)):\n",
    "        if list[i] > minmax:\n",
    "            max[minmax_index] = list[i]\n",
    "            minmax = min(max)\n",
    "            minmax_index = max.index(minmax)\n",
    "    return max\n",
    "\n",
    "print(k_max2([1,2,3,4,5,6,7,8,9,10], 3))\n",
    "print(k_max2([10,9,8,7,6,5,4,3,2,1], 3))\n",
    "print(k_max2([1,1,1,2,2,2,4,4,4,5,5,5], 3))"
   ],
   "metadata": {
    "collapsed": false,
    "ExecuteTime": {
     "end_time": "2024-03-08T07:34:08.945386Z",
     "start_time": "2024-03-08T07:34:08.934893Z"
    }
   },
   "id": "478a99c9bde9b2a0",
   "execution_count": 43
  },
  {
   "cell_type": "markdown",
   "source": [
    "### Find missing"
   ],
   "metadata": {
    "collapsed": false
   },
   "id": "65b45e1915fba8a1"
  },
  {
   "cell_type": "code",
   "outputs": [
    {
     "name": "stdout",
     "output_type": "stream",
     "text": [
      "4\n",
      "-1\n"
     ]
    }
   ],
   "source": [
    "def find_missing(list):\n",
    "    list = sorted(list)\n",
    "    for i in range(len(list)):\n",
    "        if list[i] != i + 1:\n",
    "            return i + 1\n",
    "    return -1\n",
    "\n",
    "print(find_missing([1,2,3,5,6,7,8,9,10]))\n",
    "print(find_missing([1,2,3,4,5,6,7,8,9,10]))\n"
   ],
   "metadata": {
    "collapsed": false,
    "ExecuteTime": {
     "end_time": "2024-03-08T07:40:39.013299Z",
     "start_time": "2024-03-08T07:40:38.999926Z"
    }
   },
   "id": "bf32a6173232e7e8",
   "execution_count": 46
  },
  {
   "cell_type": "markdown",
   "source": [
    "### Find repeating"
   ],
   "metadata": {
    "collapsed": false
   },
   "id": "aa469c1b2d5af3be"
  },
  {
   "cell_type": "code",
   "outputs": [
    {
     "name": "stdout",
     "output_type": "stream",
     "text": [
      "[3, 7]\n"
     ]
    }
   ],
   "source": [
    "def find_repeating(list, max_repeat):\n",
    "    list = sorted(list)\n",
    "    criminals = []\n",
    "    for i in range(len(list) - max_repeat):\n",
    "        if list[i] == list[i + max_repeat]:\n",
    "            criminals.append(list[i])\n",
    "    return criminals\n",
    "\n",
    "print(find_repeating([1,1,2,2,3,3,3,5,6,7,7,7], 2))\n",
    "    "
   ],
   "metadata": {
    "collapsed": false,
    "ExecuteTime": {
     "end_time": "2024-03-08T07:55:23.916735Z",
     "start_time": "2024-03-08T07:55:23.904229Z"
    }
   },
   "id": "5bfe46d0b47e7af4",
   "execution_count": 49
  },
  {
   "cell_type": "markdown",
   "source": [
    "### Substring search"
   ],
   "metadata": {
    "collapsed": false
   },
   "id": "f460aaad4479be39"
  },
  {
   "cell_type": "code",
   "outputs": [
    {
     "name": "stdout",
     "output_type": "stream",
     "text": [
      "True\n",
      "True\n",
      "True\n",
      "False\n"
     ]
    }
   ],
   "source": [
    "def subrstring_search(str, substr):\n",
    "    for i in range(len(str) - (len(substr) - 1)):\n",
    "        if str[i:i + len(substr)] == substr:\n",
    "            return True\n",
    "    return False\n",
    "\n",
    "print(subrstring_search(\"hello\", \"lo\"))\n",
    "print(subrstring_search(\"hello\", \"llo\"))\n",
    "print(subrstring_search(\"hello\", \"hello\"))\n",
    "print(subrstring_search(\"hello\", \"helloo\"))"
   ],
   "metadata": {
    "collapsed": false,
    "ExecuteTime": {
     "end_time": "2024-03-08T08:16:23.914252Z",
     "start_time": "2024-03-08T08:16:23.903726Z"
    }
   },
   "id": "7c95efe1175bc00d",
   "execution_count": 59
  },
  {
   "cell_type": "markdown",
   "source": [
    "### Hamming distance"
   ],
   "metadata": {
    "collapsed": false
   },
   "id": "aa8734be52b858ea"
  },
  {
   "cell_type": "code",
   "outputs": [
    {
     "name": "stdout",
     "output_type": "stream",
     "text": [
      "0\n",
      "1\n",
      "5\n"
     ]
    },
    {
     "ename": "ValueError",
     "evalue": "Strings must be of the same length",
     "output_type": "error",
     "traceback": [
      "\u001B[1;31m---------------------------------------------------------------------------\u001B[0m",
      "\u001B[1;31mValueError\u001B[0m                                Traceback (most recent call last)",
      "Cell \u001B[1;32mIn[82], line 14\u001B[0m\n\u001B[0;32m     12\u001B[0m \u001B[38;5;28mprint\u001B[39m(hamming(\u001B[38;5;124m\"\u001B[39m\u001B[38;5;124mhello\u001B[39m\u001B[38;5;124m\"\u001B[39m, \u001B[38;5;124m\"\u001B[39m\u001B[38;5;124mhella\u001B[39m\u001B[38;5;124m\"\u001B[39m))\n\u001B[0;32m     13\u001B[0m \u001B[38;5;28mprint\u001B[39m(hamming(\u001B[38;5;124m\"\u001B[39m\u001B[38;5;124mhello\u001B[39m\u001B[38;5;124m\"\u001B[39m, \u001B[38;5;124m\"\u001B[39m\u001B[38;5;124mwasup\u001B[39m\u001B[38;5;124m\"\u001B[39m))\n\u001B[1;32m---> 14\u001B[0m \u001B[38;5;28mprint\u001B[39m(\u001B[43mhamming\u001B[49m\u001B[43m(\u001B[49m\u001B[38;5;124;43m\"\u001B[39;49m\u001B[38;5;124;43mhello\u001B[39;49m\u001B[38;5;124;43m\"\u001B[39;49m\u001B[43m,\u001B[49m\u001B[43m \u001B[49m\u001B[38;5;124;43m\"\u001B[39;49m\u001B[38;5;124;43mhella!\u001B[39;49m\u001B[38;5;124;43m\"\u001B[39;49m\u001B[43m)\u001B[49m)\n",
      "Cell \u001B[1;32mIn[82], line 3\u001B[0m, in \u001B[0;36mhamming\u001B[1;34m(str1, str2)\u001B[0m\n\u001B[0;32m      1\u001B[0m \u001B[38;5;28;01mdef\u001B[39;00m \u001B[38;5;21mhamming\u001B[39m(str1, str2):\n\u001B[0;32m      2\u001B[0m     \u001B[38;5;28;01mif\u001B[39;00m \u001B[38;5;28mlen\u001B[39m(str1) \u001B[38;5;241m!=\u001B[39m \u001B[38;5;28mlen\u001B[39m(str2):\n\u001B[1;32m----> 3\u001B[0m         \u001B[38;5;28;01mraise\u001B[39;00m \u001B[38;5;167;01mValueError\u001B[39;00m(\u001B[38;5;124m\"\u001B[39m\u001B[38;5;124mStrings must be of the same length\u001B[39m\u001B[38;5;124m\"\u001B[39m)\n\u001B[0;32m      4\u001B[0m     distance \u001B[38;5;241m=\u001B[39m \u001B[38;5;241m0\u001B[39m\n\u001B[0;32m      5\u001B[0m     \u001B[38;5;28;01mfor\u001B[39;00m i \u001B[38;5;129;01min\u001B[39;00m \u001B[38;5;28mrange\u001B[39m(\u001B[38;5;28mlen\u001B[39m(str1)):\n",
      "\u001B[1;31mValueError\u001B[0m: Strings must be of the same length"
     ]
    }
   ],
   "source": [
    "def hamming(str1, str2):\n",
    "    if len(str1) != len(str2):\n",
    "        raise ValueError(\"Strings must be of the same length\")\n",
    "    distance = 0\n",
    "    for i in range(len(str1)):\n",
    "        if str1[i] != str2[i]:\n",
    "            distance += 1\n",
    "    return distance\n",
    "\n",
    "\n",
    "print(hamming(\"hello\", \"hello\"))\n",
    "print(hamming(\"hello\", \"hella\"))\n",
    "print(hamming(\"hello\", \"wasup\"))\n",
    "print(hamming(\"hello\", \"hella!\"))"
   ],
   "metadata": {
    "collapsed": false,
    "ExecuteTime": {
     "end_time": "2024-03-08T08:32:19.995057Z",
     "start_time": "2024-03-08T08:32:19.960377Z"
    }
   },
   "id": "c180fe31e07e335e",
   "execution_count": 82
  },
  {
   "cell_type": "markdown",
   "source": [
    "### Levenshtein distance"
   ],
   "metadata": {
    "collapsed": false
   },
   "id": "19d993723bbd74cb"
  },
  {
   "cell_type": "code",
   "outputs": [
    {
     "name": "stdout",
     "output_type": "stream",
     "text": [
      "0\n",
      "1\n",
      "5\n",
      "6\n"
     ]
    }
   ],
   "source": [
    "def lev(str1, str2):\n",
    "    if len(str1) == 0: return len(str2)\n",
    "    if len(str2) == 0: return len(str1)\n",
    "    if str1[0] == str2[0]:\n",
    "        return lev(str1[1:], str2[1:])\n",
    "    return 1 + min(lev(str1[1:], str2), lev(str1, str2[1:]), lev(str1[1:], str2[1:]))\n",
    "\n",
    "print(lev(\"hello\", \"hello\"))\n",
    "print(lev(\"hello\", \"hella\"))\n",
    "print(lev(\"hello\", \"wasup\"))\n",
    "print(lev(\"skipapa\", \"skibidiwapapa\"))"
   ],
   "metadata": {
    "collapsed": false,
    "ExecuteTime": {
     "end_time": "2024-03-08T08:48:01.128057Z",
     "start_time": "2024-03-08T08:48:01.119080Z"
    }
   },
   "id": "d77af168a4a15d8a",
   "execution_count": 29
  },
  {
   "cell_type": "markdown",
   "source": [
    "### Bisekce"
   ],
   "metadata": {
    "collapsed": false
   },
   "id": "7f23e3aa85b1a614"
  },
  {
   "cell_type": "code",
   "outputs": [
    {
     "name": "stdout",
     "output_type": "stream",
     "text": [
      "[1, 2, 3, 5, 6, 7, 8, 9]\n",
      "3\n",
      "[1, 2, 3, 5, 6, 7, 8, 9]\n",
      "-1\n",
      "[1, 2, 3, 5, 6, 7, 8, 9]\n",
      "-1\n"
     ]
    }
   ],
   "source": [
    "def bisekce(list, item):\n",
    "    list = sorted(list)\n",
    "    print(list)\n",
    "    mid = len(list) // 2\n",
    "    while True:\n",
    "        if list[mid] == item:\n",
    "            return mid\n",
    "        if list[mid] > item:\n",
    "            mid = mid // 2\n",
    "        else:\n",
    "            mid = mid + mid // 2\n",
    "        if mid <= 0 or mid >= len(list) - 1:\n",
    "            return -1\n",
    "        \n",
    "    \n",
    "print(bisekce([1,2,3,5,6,7,8,9], 5))\n",
    "print(bisekce([1,2,3,5,6,7,8,9], 10))\n",
    "print(bisekce([1,2,3,5,6,7,8,9], -5))"
   ],
   "metadata": {
    "collapsed": false,
    "ExecuteTime": {
     "end_time": "2024-03-08T08:41:54.488121Z",
     "start_time": "2024-03-08T08:41:54.477764Z"
    }
   },
   "id": "3c4204154ee1c48a",
   "execution_count": 26
  },
  {
   "cell_type": "markdown",
   "source": [
    "### Beryho bisekce"
   ],
   "metadata": {
    "collapsed": false
   },
   "id": "edd0f68fe70bf0ac"
  },
  {
   "cell_type": "code",
   "outputs": [],
   "source": [
    "h = 4\n",
    "s  = [1,2,3,4,5]\n",
    "s.sort()\n",
    "\n",
    "nalezeno = False\n",
    "while s:\n",
    "    idx_p = len(s) // 2\n",
    "    if s[idx_p] == h:\n",
    "        nalezeno = True\n",
    "        break\n",
    "    elif s[idx_p] < h:\n",
    "        s = s[idx_p + 1:]\n",
    "    else:\n",
    "        s = s[:idx_p]"
   ],
   "metadata": {
    "collapsed": false,
    "ExecuteTime": {
     "end_time": "2024-03-08T08:52:38.952329Z",
     "start_time": "2024-03-08T08:52:38.925402Z"
    }
   },
   "id": "1337df0ae503ac3c",
   "execution_count": 1
  },
  {
   "cell_type": "markdown",
   "source": [
    "### Binary search"
   ],
   "metadata": {
    "collapsed": false
   },
   "id": "2755bc5b5bf8461d"
  },
  {
   "cell_type": "code",
   "outputs": [
    {
     "name": "stdout",
     "output_type": "stream",
     "text": [
      "[564, 2792, 3220, 3349, 3918, 10551, 12104, 12408, 12860, 13876, 14897, 17847, 17988, 18669, 19246, 20739, 21347, 22698, 22760, 23328, 23591, 23641, 23983, 24571, 26251, 28129, 29196, 29341, 30166, 30490, 32595, 36931, 37649, 38550, 40806, 41975, 43198, 44655, 47172, 48678, 49593, 49892, 50099, 52104, 52430, 54208, 54460, 55555, 56113, 57212, 57721, 57827, 58318, 58545, 58710, 59476, 62165, 62516, 64229, 64619, 65150, 65754, 65842, 67118, 68371, 68856, 69090, 70209, 71121, 71307, 71543, 73999, 74460, 74663, 75033, 75218, 75825, 75944, 77025, 79930, 80127, 80953, 81034, 81106, 83894, 85739, 86480, 88408, 88871, 91781, 92055, 92941, 93703, 94176, 96182, 96741, 96927, 97023, 98370, 99108, 99339]\n",
      "Item 55555 found at index 47\n"
     ]
    }
   ],
   "source": [
    "from random import randint\n",
    "\n",
    "def create_list(size):\n",
    "    list = [randint(1, 100000) for _ in range(size)]\n",
    "    list.insert(randint(0, size), 55555)\n",
    "    return  list\n",
    "\n",
    "def binary_search(list, item):\n",
    "    low = 0\n",
    "    high = len(list) - 1\n",
    "    while low <= high:\n",
    "        mid = (low + high) // 2\n",
    "        guess = list[mid]\n",
    "        if guess == item:\n",
    "            return f\"Item {item} found at index {mid}\"\n",
    "        if guess > item:\n",
    "            high = mid - 1\n",
    "        else:\n",
    "            low = mid + 1\n",
    "    return f\"Item {item} not found\"\n",
    "    \n",
    "    \n",
    "    \n",
    "def main():\n",
    "    list = create_list(100)\n",
    "    list.sort()\n",
    "    print(list)\n",
    "    print(binary_search(list, 55555))\n",
    "\n",
    "main()"
   ],
   "metadata": {
    "collapsed": false,
    "ExecuteTime": {
     "end_time": "2024-03-08T08:18:22.553565Z",
     "start_time": "2024-03-08T08:18:22.543282Z"
    }
   },
   "id": "b4378ac4cf0594e4",
   "execution_count": 78
  },
  {
   "cell_type": "markdown",
   "source": [
    "### Interpolation search"
   ],
   "metadata": {
    "collapsed": false
   },
   "id": "b581a01cc4d014d2"
  },
  {
   "cell_type": "code",
   "outputs": [
    {
     "name": "stdout",
     "output_type": "stream",
     "text": [
      "[345, 806, 2504, 3335, 3946, 4728, 7104, 7158, 7902, 9762, 11606, 11755, 12084, 12985, 14596, 18057, 19320, 21570, 22498, 23575, 24098, 24472, 24887, 24963, 26088, 26184, 27686, 27963, 28767, 29543, 30290, 31278, 31713, 32059, 32677, 33109, 34203, 37369, 37432, 38162, 40985, 41032, 41984, 43916, 44689, 45976, 46868, 49072, 49889, 50300, 51764, 52012, 52666, 53623, 53633, 54238, 54656, 55555, 55980, 56674, 57498, 58869, 59271, 60010, 60689, 61627, 62277, 62450, 63526, 65043, 67469, 67819, 68029, 68128, 68574, 69852, 70939, 72189, 72618, 72811, 74961, 75733, 78837, 79362, 79737, 80387, 83507, 83620, 84673, 88126, 89128, 90443, 92376, 92877, 92891, 93142, 93390, 94909, 95380, 97311, 98150]\n",
      "pos: 57\n"
     ]
    }
   ],
   "source": [
    "from random import randint\n",
    "\n",
    "def create_list(size):\n",
    "    list = [randint(1, 100000) for _ in range(size)]\n",
    "    list.insert(randint(0, size), 55555)\n",
    "    return  list\n",
    "\n",
    "def interpolation_search(list, low, high, item):\n",
    "    if low > high or item < list[low] or item > list[high]:\n",
    "        return pos\n",
    "    pos = low + ((item - list[low]) * (high - low) // (list[high] - list[low]))\n",
    "    if list[pos] == item:\n",
    "        return pos\n",
    "    if list[pos] < item:\n",
    "        return interpolation_search(list, pos + 1, high, item)\n",
    "    if list[pos] > item:\n",
    "        return interpolation_search(list, low, pos - 1, item)\n",
    "    return -1\n",
    "\n",
    "def main():\n",
    "    list = create_list(100)\n",
    "    list.sort()\n",
    "    print(list)\n",
    "    print(f\"pos: {interpolation_search(list, 0, len(list) - 1, 55555)}\")\n",
    "    \n",
    "main()\n",
    "    "
   ],
   "metadata": {
    "collapsed": false,
    "ExecuteTime": {
     "end_time": "2024-03-01T10:33:16.118676Z",
     "start_time": "2024-03-01T10:33:16.098992Z"
    }
   },
   "id": "9b96ab2161fc511",
   "execution_count": 12
  },
  {
   "cell_type": "markdown",
   "source": [
    "### Prune and search"
   ],
   "metadata": {
    "collapsed": false
   },
   "id": "fd9af98367fffbf8"
  },
  {
   "cell_type": "code",
   "outputs": [
    {
     "name": "stdout",
     "output_type": "stream",
     "text": [
      "[657, 404, 556, 17, 788, 967, 932, 173, 814, 604, 781, 867, 988, 192, 915, 875, 336, 776, 323, 801, 348, 752, 519, 45, 535, 637, 885, 408, 718, 198, 477, 194, 680, 654, 278, 70, 840, 993, 147, 815, 806, 708, 998, 73, 210, 759, 61, 314, 191, 833, 409, 683, 996, 807, 89, 373, 187, 916, 235, 389, 166, 761, 206, 697, 761, 493, 696, 595, 173, 321, 0, 632, 237, 772, 32, 271, 584, 563, 39, 707, 907, 895, 265, 858, 79, 756, 567, 826, 106, 54, 526, 822, 95, 453, 695, 545, 395, 907, 311, 295, 972]\n",
      "highest: 998\n",
      "lowest: 0\n"
     ]
    }
   ],
   "source": [
    "from random import randint\n",
    "\n",
    "def generate_list(size):\n",
    "    list = [randint(1, 1000) for _ in range(size)]\n",
    "    list.insert(randint(0, size), 0)\n",
    "    return list\n",
    "\n",
    "def swap(list, i, j):\n",
    "    tmp = list[i]\n",
    "    list[i] = list[j]\n",
    "    list[j] = tmp\n",
    "\n",
    "def prune_and_search(list, index, left, right):\n",
    "    boundary = left\n",
    "    for i in range(left + 1, right):\n",
    "        if list[i] > list[left]:\n",
    "            boundary += 1\n",
    "            swap(list, i, boundary)\n",
    "    swap(list, left, boundary)\n",
    "    \n",
    "    if boundary == index:\n",
    "        return list[boundary]\n",
    "    elif boundary > index:\n",
    "        return prune_and_search(list, index, left, boundary)\n",
    "    else:\n",
    "        return prune_and_search(list, index, boundary + 1, right)\n",
    "        \n",
    "    \n",
    "\n",
    "def main():\n",
    "    list = generate_list(100)\n",
    "    print(list)\n",
    "    print(f\"highest: {prune_and_search(list, 0, 0, 50)}\")\n",
    "    print(f\"lowest: {prune_and_search(list, 99, 50, 100)}\")\n",
    "    \n",
    "main()"
   ],
   "metadata": {
    "collapsed": false,
    "ExecuteTime": {
     "end_time": "2024-03-01T10:35:10.373333Z",
     "start_time": "2024-03-01T10:35:10.358556Z"
    }
   },
   "id": "4fca24dd062accdf",
   "execution_count": 62
  },
  {
   "cell_type": "markdown",
   "source": [
    "## Cv.4"
   ],
   "metadata": {
    "collapsed": false
   },
   "id": "2661f45cdbe48a72"
  },
  {
   "cell_type": "markdown",
   "source": [
    "### Bubble sort"
   ],
   "metadata": {
    "collapsed": false
   },
   "id": "316f43bf8bc4f3a2"
  },
  {
   "cell_type": "code",
   "outputs": [
    {
     "name": "stdout",
     "output_type": "stream",
     "text": [
      "[0, 1, 2, 3, 4, 5, 6, 7, 8, 9]\n",
      "[1, 2, 3]\n",
      "[]\n"
     ]
    }
   ],
   "source": [
    "def bubble_sort(list_to_sort:list):\n",
    "    is_sorted = False\n",
    "    l_size = len(list_to_sort)\n",
    "    while not is_sorted:\n",
    "        l_size -= 1\n",
    "        is_sorted = True\n",
    "        for i in range(l_size):\n",
    "            if list_to_sort[i] > list_to_sort[i+1]:\n",
    "                list_to_sort[i], list_to_sort[i+1] = list_to_sort[i+1], list_to_sort[i]\n",
    "                is_sorted = False\n",
    "                \n",
    "\n",
    "\n",
    "l = [5,1,2,8,3,4,9,7,6,0]\n",
    "l2 = [1,2,3]\n",
    "l3 = []\n",
    "bubble_sort(l)\n",
    "bubble_sort(l2)\n",
    "bubble_sort(l3)\n",
    "print(l)\n",
    "print(l2)\n",
    "print(l3)"
   ],
   "metadata": {
    "collapsed": false,
    "ExecuteTime": {
     "end_time": "2024-03-15T07:35:06.888850Z",
     "start_time": "2024-03-15T07:35:06.879517Z"
    }
   },
   "id": "8563316275441efa",
   "execution_count": 48
  },
  {
   "cell_type": "markdown",
   "source": [
    "### Exchange sort"
   ],
   "metadata": {
    "collapsed": false
   },
   "id": "5f056fa298bf9daa"
  },
  {
   "cell_type": "code",
   "outputs": [
    {
     "name": "stdout",
     "output_type": "stream",
     "text": [
      "[0, 1, 2, 3, 4, 5, 6, 7, 8, 9]\n",
      "[1, 2, 3]\n",
      "[0]\n",
      "[]\n"
     ]
    }
   ],
   "source": [
    "def exchange_sort(list_to_sort:list):\n",
    "    outer_loop_size = len(list_to_sort) - 1\n",
    "    inner_loop_size = len(list_to_sort)\n",
    "    for i in range(outer_loop_size):\n",
    "        for j in range(i+1, inner_loop_size):\n",
    "            if list_to_sort[i] > list_to_sort[j]:\n",
    "                list_to_sort[i], list_to_sort[j] = list_to_sort[j], list_to_sort[i]\n",
    "\n",
    "l = [5,1,2,8,3,4,9,7,6,0]\n",
    "exchange_sort(l)\n",
    "print(l)\n",
    "l2 = [1,2,3]\n",
    "exchange_sort(l2)\n",
    "print(l2)\n",
    "l3 = [0]\n",
    "exchange_sort(l3)\n",
    "print(l3)\n",
    "l4 = []\n",
    "exchange_sort(l4)\n",
    "print(l4)            \n",
    "        "
   ],
   "metadata": {
    "collapsed": false,
    "ExecuteTime": {
     "end_time": "2024-03-15T07:35:24.084792Z",
     "start_time": "2024-03-15T07:35:24.070526Z"
    }
   },
   "id": "7d0497c694cf5320",
   "execution_count": 49
  },
  {
   "cell_type": "markdown",
   "source": [
    "### Comb sort"
   ],
   "metadata": {
    "collapsed": false
   },
   "id": "cf08794b0ad065be"
  },
  {
   "cell_type": "code",
   "outputs": [
    {
     "name": "stdout",
     "output_type": "stream",
     "text": [
      "[0, 1, 2, 3, 5, 4, 6, 7, 8, 9]\n",
      "[1, 2, 3]\n",
      "[0]\n",
      "[]\n"
     ]
    }
   ],
   "source": [
    "def comb_sort(list_to_sort:list):\n",
    "    l_size = len(list_to_sort)\n",
    "    gap = l_size\n",
    "    swapped = True\n",
    "    while gap > 1 or swapped:\n",
    "        gap = int(gap/1.33)\n",
    "        swapped = False\n",
    "        for i in range(l_size - gap):\n",
    "            if list_to_sort[i] > list_to_sort[i + gap]:\n",
    "                list_to_sort[i], list_to_sort[i+gap] = list_to_sort[i+gap], list_to_sort[i]\n",
    "                swapped = True\n",
    "        \n",
    "l = [5,1,2,8,3,4,9,7,6,0]\n",
    "comb_sort(l)\n",
    "print(l)\n",
    "l2 = [1,2,3]\n",
    "comb_sort(l2)\n",
    "print(l2)\n",
    "l3 = [0]\n",
    "comb_sort(l3)\n",
    "print(l3)\n",
    "l4 = []\n",
    "comb_sort(l4)\n",
    "print(l4)   "
   ],
   "metadata": {
    "collapsed": false,
    "ExecuteTime": {
     "end_time": "2024-03-15T07:47:18.885606Z",
     "start_time": "2024-03-15T07:47:18.874280Z"
    }
   },
   "id": "d71862abb501e124",
   "execution_count": 4
  },
  {
   "cell_type": "markdown",
   "source": [
    "### Selection sort"
   ],
   "metadata": {
    "collapsed": false
   },
   "id": "9c8f053eb2de6e38"
  },
  {
   "cell_type": "code",
   "outputs": [
    {
     "name": "stdout",
     "output_type": "stream",
     "text": [
      "[9, 8, 7, 6, 5, 4, 3, 2, 1, 0]\n"
     ]
    }
   ],
   "source": [
    "def selection_sort_desc(list_to_sort:list):\n",
    "    l_size = len(list_to_sort)\n",
    "    for i in range(l_size):\n",
    "        max_index = i\n",
    "        for j in range(i+1, l_size):\n",
    "            if list_to_sort[j] > list_to_sort[max_index]:\n",
    "                max_index = j\n",
    "        if max_index != i:\n",
    "            list_to_sort[i], list_to_sort[max_index] = list_to_sort[max_index], list_to_sort[i]\n",
    "            \n",
    "l = [5,1,2,8,3,4,9,7,6,0]\n",
    "selection_sort_desc(l)\n",
    "print(l)"
   ],
   "metadata": {
    "collapsed": false,
    "ExecuteTime": {
     "end_time": "2024-03-15T07:54:19.859292Z",
     "start_time": "2024-03-15T07:54:19.843332Z"
    }
   },
   "id": "9312a3fd1ec523a4",
   "execution_count": 9
  },
  {
   "cell_type": "markdown",
   "source": [
    "### Insertion sort"
   ],
   "metadata": {
    "collapsed": false
   },
   "id": "9069a187f90a7be1"
  },
  {
   "cell_type": "code",
   "outputs": [
    {
     "name": "stdout",
     "output_type": "stream",
     "text": [
      "[0, 1, 2, 3, 4, 5, 6, 7, 8, 9]\n"
     ]
    }
   ],
   "source": [
    "def insertion_sort(list_to_sort:list):\n",
    "    l_size = len(list_to_sort)\n",
    "    for i in range(l_size - 1):\n",
    "        key_index = i + 1\n",
    "        key_value = list_to_sort[key_index]\n",
    "        while key_index > 0 and key_value < list_to_sort[key_index - 1]:\n",
    "            list_to_sort[key_index] = list_to_sort[key_index - 1]\n",
    "            key_index -= 1\n",
    "        list_to_sort[key_index] = key_value\n",
    "    \n",
    "l = [5,1,2,8,3,4,9,7,6,0]\n",
    "insertion_sort(l)\n",
    "print(l)"
   ],
   "metadata": {
    "collapsed": false,
    "ExecuteTime": {
     "end_time": "2024-03-15T08:02:11.455051Z",
     "start_time": "2024-03-15T08:02:11.444051Z"
    }
   },
   "id": "b143a7cb149de392",
   "execution_count": 13
  },
  {
   "cell_type": "markdown",
   "source": [
    "### Quicksort"
   ],
   "metadata": {
    "collapsed": false
   },
   "id": "afecfa0838c7e5f9"
  },
  {
   "cell_type": "code",
   "outputs": [
    {
     "name": "stdout",
     "output_type": "stream",
     "text": [
      "[0, 1, 2, 3, 4, 5, 6, 7, 8, 9]\n",
      "[0, 1, 2, 3, 4, 5, 6, 7, 8, 9]\n"
     ]
    }
   ],
   "source": [
    "from random import randint\n",
    "\n",
    "def quicksort(list_to_sort:list, left:int, right:int):\n",
    "    if left < right:\n",
    "        pivot = left\n",
    "        for i in range(left + 1, right):\n",
    "            if list_to_sort[i] < list_to_sort[left]:\n",
    "                pivot +=1\n",
    "                list_to_sort[i], list_to_sort[pivot] = list_to_sort[pivot], list_to_sort[i]\n",
    "        list_to_sort[left], list_to_sort[pivot] = list_to_sort[pivot], list_to_sort[left]\n",
    "        quicksort(list_to_sort, left, pivot)\n",
    "        quicksort(list_to_sort, pivot+1, right)\n",
    "        \n",
    "        \n",
    "def quicksort2(list_to_sort:list):\n",
    "    if len(list_to_sort) <= 1: return list_to_sort\n",
    "    pivot = list_to_sort[0]\n",
    "    smaller = [n for n in list_to_sort[1:] if n <= pivot]\n",
    "    bigger = [n for n in list_to_sort[1:] if n > pivot]\n",
    "    return quicksort2(smaller) + [pivot] + quicksort2(bigger)\n",
    "    \n",
    "l = [5,1,2,8,3,4,9,7,6,0]\n",
    "left = 0\n",
    "right = len(l)\n",
    "quicksort(l, left, right)\n",
    "print(l)\n",
    "\n",
    "l2 = [5,1,2,8,3,4,9,7,6,0]\n",
    "print(quicksort2(l2))\n",
    "\n",
    "    \n",
    "    "
   ],
   "metadata": {
    "collapsed": false,
    "ExecuteTime": {
     "end_time": "2024-03-15T08:45:59.461385Z",
     "start_time": "2024-03-15T08:45:59.442988Z"
    }
   },
   "id": "196947840cc2e538",
   "execution_count": 40
  },
  {
   "cell_type": "markdown",
   "source": [
    "### Fibonacci"
   ],
   "metadata": {
    "collapsed": false
   },
   "id": "301fca105c421e40"
  },
  {
   "cell_type": "code",
   "outputs": [
    {
     "name": "stdout",
     "output_type": "stream",
     "text": [
      "55\n"
     ]
    }
   ],
   "source": [
    "def fibonacci(n:int):\n",
    "    if n < 2: return n\n",
    "    return fibonacci(n-1) + fibonacci(n-2)\n",
    "    \n",
    "print(fibonacci(10))    \n"
   ],
   "metadata": {
    "collapsed": false,
    "ExecuteTime": {
     "end_time": "2024-03-15T08:33:15.476369Z",
     "start_time": "2024-03-15T08:33:15.463161Z"
    }
   },
   "id": "90b39035310e4d0d",
   "execution_count": 26
  },
  {
   "cell_type": "markdown",
   "source": [
    "### Merge sort"
   ],
   "metadata": {
    "collapsed": false
   },
   "id": "445745d4e519b7bc"
  },
  {
   "cell_type": "code",
   "outputs": [
    {
     "name": "stdout",
     "output_type": "stream",
     "text": [
      "[0, 1, 2, 3, 4, 5, 6, 7, 8, 9]\n"
     ]
    }
   ],
   "source": [
    "def merge_sort(list_to_sort:list):\n",
    "    l_size = len(list_to_sort)\n",
    "    if l_size <= 1: return\n",
    "    mid_index = int(l_size // 2)\n",
    "    left = list_to_sort[:mid_index]\n",
    "    right = list_to_sort[mid_index:]\n",
    "    \n",
    "    merge_sort(left)\n",
    "    merge_sort(right)\n",
    "    \n",
    "    i = j = k = 0\n",
    "    \n",
    "    while i < len(left) and j < len(right):\n",
    "        if left[i] <right[j]:\n",
    "            list_to_sort[k] = left[i]\n",
    "            i += 1 \n",
    "        else:\n",
    "            list_to_sort[k] = right[j]\n",
    "            j += 1\n",
    "        k += 1 \n",
    "        \n",
    "    while i < len(left):\n",
    "        list_to_sort[k] = left[i]\n",
    "        i += 1\n",
    "        k += 1\n",
    "        \n",
    "    while j < len(right):\n",
    "        list_to_sort[k] = right[j]\n",
    "        j += 1\n",
    "        k += 1\n",
    "\n",
    "l = [5,1,2,8,3,4,9,7,6,0]\n",
    "merge_sort(l)\n",
    "print(l)\n",
    "    \n",
    "    \n",
    "    "
   ],
   "metadata": {
    "collapsed": false,
    "ExecuteTime": {
     "end_time": "2024-03-15T08:36:29.481656Z",
     "start_time": "2024-03-15T08:36:29.463126Z"
    }
   },
   "id": "834786dba1aebe",
   "execution_count": 29
  },
  {
   "cell_type": "markdown",
   "source": [
    "### Counting sort"
   ],
   "metadata": {
    "collapsed": false
   },
   "id": "6ed7449c5e268289"
  },
  {
   "cell_type": "code",
   "outputs": [
    {
     "name": "stdout",
     "output_type": "stream",
     "text": [
      "[0, 1, 1, 2, 5]\n",
      "[0, 1, 2, 3, 4, 5]\n",
      "[]\n",
      "[0]\n",
      "[0, 0, 0, 0, 999]\n"
     ]
    }
   ],
   "source": [
    "def counting_sort(list_to_sort: list):\n",
    "    \n",
    "    if not list_to_sort:\n",
    "        return list_to_sort\n",
    "    \n",
    "    # vytvoření čítače prvků v seznam\n",
    "    max_val = max(list_to_sort)\n",
    "    count_list = [0 for _ in range(max_val+1)] # pomocí listu výhodné pouze pokud maximum listu není o moc větší než délka listu\n",
    "    for i in list_to_sort:\n",
    "        count_list[i] += 1 \n",
    "    \n",
    "    # seznam kumulační sumy\n",
    "    cumsum_list = [0 for _ in range(max_val+1)]\n",
    "    cumsum_list[0] = count_list[0]\n",
    "    for i in range(1, max_val+1):\n",
    "        cumsum_list[i] = cumsum_list[i-1] + count_list[i]\n",
    "       \n",
    "    # řazení\n",
    "    list_l = len(list_to_sort)\n",
    "    sorted_list = [0 for i in range(list_l)]\n",
    "    for i in range(list_l-1, -1, -1):\n",
    "        val = list_to_sort[i]\n",
    "        sorted_index = cumsum_list[val] - 1\n",
    "        cumsum_list[val] -= 1\n",
    "        sorted_list[sorted_index] = val\n",
    "    \n",
    "    return sorted_list\n",
    "\n",
    "def main():\n",
    "    l = [5,1,1,0,2]\n",
    "    print(counting_sort(l))\n",
    "    l2 = [5,4,3,2,1,0]\n",
    "    print(counting_sort(l2))\n",
    "    l3 = []\n",
    "    print(counting_sort(l3))\n",
    "    l4 = [0]\n",
    "    print(counting_sort(l4))\n",
    "    l5 = [0,0,0,0,999]\n",
    "    print(counting_sort(l5))\n",
    "main()"
   ],
   "metadata": {
    "collapsed": false,
    "ExecuteTime": {
     "end_time": "2024-03-22T07:54:00.959869Z",
     "start_time": "2024-03-22T07:54:00.942917Z"
    }
   },
   "id": "21bee3e98b5d5706",
   "execution_count": 3
  },
  {
   "cell_type": "markdown",
   "source": [
    "### Bucket sort"
   ],
   "metadata": {
    "collapsed": false
   },
   "id": "e5a40646c246217"
  },
  {
   "cell_type": "code",
   "outputs": [
    {
     "name": "stdout",
     "output_type": "stream",
     "text": [
      "[0, 0, 0, 1, 1, 2, 4, 4, 5]\n",
      "[0.1234, 0.3434, 0.565, 0.656, 0.665, 0.897]\n"
     ]
    }
   ],
   "source": [
    "from math import floor  \n",
    "\n",
    "def bucket_sort(list_to_sort: list, k) -> list:\n",
    "    # inicializace\n",
    "    bucket_list = [[] for i in range(k)]\n",
    "    \n",
    "    # plnění kbelíků\n",
    "    for e in list_to_sort:\n",
    "        bucket_idx = floor(k * e / (max(list_to_sort)+1))\n",
    "        bucket_list[bucket_idx].append(e)\n",
    "    \n",
    "    # řazení jednotlivých kbelíků\n",
    "    for bucket in bucket_list:\n",
    "        bucket.sort()\n",
    "    \n",
    "    # spojování seřazených kbelíků do výsledku\n",
    "    sorted_list = []\n",
    "    for bucket in bucket_list:\n",
    "        sorted_list.extend(bucket)\n",
    "            \n",
    "    return sorted_list\n",
    "\n",
    "l = [4,0,0,1,0,2,4,5,1]\n",
    "l = bucket_sort(l, 10)\n",
    "print(l)\n",
    "\n",
    "arr = [0.897, 0.565, 0.656, 0.1234, 0.665, 0.3434]\n",
    "arr = bucket_sort(arr, 10)\n",
    "print(arr)\n",
    "    "
   ],
   "metadata": {
    "collapsed": false,
    "ExecuteTime": {
     "end_time": "2024-03-22T08:23:34.411993Z",
     "start_time": "2024-03-22T08:23:34.404477Z"
    }
   },
   "id": "5a48070248b4e202",
   "execution_count": 20
  },
  {
   "cell_type": "markdown",
   "source": [
    "## CV.4 - ukoly"
   ],
   "metadata": {
    "collapsed": false
   },
   "id": "f555cb1627eb3440"
  },
  {
   "cell_type": "markdown",
   "source": [
    "### DCv.1 - Shaker sort"
   ],
   "metadata": {
    "collapsed": false
   },
   "id": "904eca7a0f6f261f"
  },
  {
   "cell_type": "code",
   "outputs": [
    {
     "name": "stdout",
     "output_type": "stream",
     "text": [
      "[1, 2, 3, 4, 5]\n"
     ]
    }
   ],
   "source": [
    "def shaker_sort(list_to_sort: list):\n",
    "    is_sorted = False\n",
    "    l_size = len(list_to_sort)\n",
    "    while not is_sorted:\n",
    "        is_sorted = True\n",
    "        for i in range(l_size - 1):\n",
    "            if list_to_sort[i] > list_to_sort[i+1]:\n",
    "                is_sorted = False\n",
    "                list_to_sort[i], list_to_sort[i+1] = list_to_sort[i+1], list_to_sort[i]\n",
    "        if is_sorted:\n",
    "            break\n",
    "        is_sorted = True\n",
    "        for i in range(1, l_size - 1):\n",
    "            if list_to_sort[l_size - i] < list_to_sort[l_size - (i+1)]:\n",
    "                is_sorted = False\n",
    "                list_to_sort[l_size - i], list_to_sort[l_size - (i+1)] = list_to_sort[l_size - (i+1)], list_to_sort[l_size - i]\n",
    "                \n",
    "\n",
    "                \n",
    "def main():\n",
    "    list = [5, 4, 3, 2, 1]\n",
    "    shaker_sort(list)\n",
    "    print(list)\n",
    "    \n",
    "main()\n",
    "    "
   ],
   "metadata": {
    "collapsed": false,
    "ExecuteTime": {
     "end_time": "2024-03-08T13:38:40.712305Z",
     "start_time": "2024-03-08T13:38:40.691238Z"
    }
   },
   "id": "ee6d4da0b9645cc0",
   "execution_count": 16
  },
  {
   "cell_type": "markdown",
   "source": [
    "### DCv.2 - Bogo sort"
   ],
   "metadata": {
    "collapsed": false
   },
   "id": "b80b84712127868"
  },
  {
   "cell_type": "code",
   "outputs": [],
   "source": [
    "from random import randint\n",
    "\n",
    "def shuffle(list_to_shuffle: list):\n",
    "    for i in range(len(list_to_shuffle)):\n",
    "        j = randint(0, len(list_to_shuffle) - 1)\n",
    "        list_to_shuffle[i], list_to_shuffle[j] = list_to_shuffle[j], list_to_shuffle[i]\n",
    "\n",
    "def bogo_sort(list_to_sort: list):\n",
    "    while not list_to_sort == sorted(list_to_sort):\n",
    "        shuffle(list_to_sort)"
   ],
   "metadata": {
    "collapsed": false
   },
   "id": "ca48fd4c28b01107"
  },
  {
   "cell_type": "markdown",
   "source": [
    "## Cv.5"
   ],
   "metadata": {
    "collapsed": false
   },
   "id": "af3e5b393a4214e3"
  },
  {
   "cell_type": "markdown",
   "source": [
    "## Cv.9"
   ],
   "metadata": {
    "collapsed": false
   },
   "id": "213caf4750b767e5"
  },
  {
   "cell_type": "markdown",
   "source": [
    "### A* algoritmus"
   ],
   "metadata": {
    "collapsed": false
   },
   "id": "4417b8d7d145f46b"
  },
  {
   "cell_type": "code",
   "outputs": [
    {
     "ename": "KeyboardInterrupt",
     "evalue": "",
     "output_type": "error",
     "traceback": [
      "\u001B[1;31m---------------------------------------------------------------------------\u001B[0m",
      "\u001B[1;31mKeyboardInterrupt\u001B[0m                         Traceback (most recent call last)",
      "Cell \u001B[1;32mIn[4], line 121\u001B[0m\n\u001B[0;32m    117\u001B[0m     vykresli_bludiste(bludiste, zacatek, konec, optimalni_cesta)\n\u001B[0;32m    120\u001B[0m \u001B[38;5;28;01mif\u001B[39;00m \u001B[38;5;18m__name__\u001B[39m \u001B[38;5;241m==\u001B[39m \u001B[38;5;124m'\u001B[39m\u001B[38;5;124m__main__\u001B[39m\u001B[38;5;124m'\u001B[39m:\n\u001B[1;32m--> 121\u001B[0m     \u001B[43mmain\u001B[49m\u001B[43m(\u001B[49m\u001B[43m)\u001B[49m        \n",
      "Cell \u001B[1;32mIn[4], line 116\u001B[0m, in \u001B[0;36mmain\u001B[1;34m()\u001B[0m\n\u001B[0;32m    114\u001B[0m zacatek \u001B[38;5;241m=\u001B[39m (\u001B[38;5;241m0\u001B[39m, \u001B[38;5;241m0\u001B[39m)\n\u001B[0;32m    115\u001B[0m konec \u001B[38;5;241m=\u001B[39m (\u001B[38;5;28mlen\u001B[39m(bludiste)\u001B[38;5;241m-\u001B[39m\u001B[38;5;241m1\u001B[39m, \u001B[38;5;28mlen\u001B[39m(bludiste[\u001B[38;5;241m0\u001B[39m])\u001B[38;5;241m-\u001B[39m\u001B[38;5;241m1\u001B[39m)\n\u001B[1;32m--> 116\u001B[0m optimalni_cesta \u001B[38;5;241m=\u001B[39m \u001B[43ma_star_search\u001B[49m\u001B[43m(\u001B[49m\u001B[43mbludiste\u001B[49m\u001B[43m,\u001B[49m\u001B[43m \u001B[49m\u001B[43mzacatek\u001B[49m\u001B[43m,\u001B[49m\u001B[43m \u001B[49m\u001B[43mkonec\u001B[49m\u001B[43m)\u001B[49m\n\u001B[0;32m    117\u001B[0m vykresli_bludiste(bludiste, zacatek, konec, optimalni_cesta)\n",
      "Cell \u001B[1;32mIn[4], line -1\u001B[0m, in \u001B[0;36ma_star_search\u001B[1;34m(map, source, target)\u001B[0m\n\u001B[0;32m      0\u001B[0m <Error retrieving source code with stack_data see ipython/ipython#13598>\n",
      "\u001B[1;31mKeyboardInterrupt\u001B[0m: "
     ]
    }
   ],
   "source": [
    "import matplotlib.pyplot as plt\n",
    "import matplotlib.colors as colors\n",
    "import random\n",
    "from math import sqrt\n",
    "\n",
    "\n",
    "class Node:\n",
    "    def __init__(self, parent=None, position=None):\n",
    "        self.parent = parent\n",
    "        self.position = position\n",
    "        self.g = 0\n",
    "        self.h = 0\n",
    "        self.f = 0\n",
    "        \n",
    "    def __eq__(self, other):\n",
    "        return self.position == other.position\n",
    "    \n",
    "def a_star_search(map, source, target):\n",
    "    open_list = []\n",
    "    closed_list = []\n",
    "    source_node = Node(None, source)\n",
    "    open_list.append(source_node)\n",
    "    \n",
    "    while open_list:\n",
    "        lowest_f_node = open_list[0]\n",
    "        \n",
    "        for node in open_list:\n",
    "            if node.f < lowest_f_node.f:\n",
    "                lowest_f_node = node\n",
    "        \n",
    "        open_list.pop(open_list.index(lowest_f_node))\n",
    "        \n",
    "        if lowest_f_node.position == target:\n",
    "            path = []\n",
    "            node = lowest_f_node\n",
    "            while node:\n",
    "                path.append(node.position)\n",
    "                node = node.parent\n",
    "            return path[::-1]\n",
    "        \n",
    "        successors = []\n",
    "        \n",
    "        for shift in [(0, -1), (0, 1), (-1, 0), (1, 0)]:\n",
    "            \n",
    "            successor_position = (lowest_f_node.position[0] + shift[0], lowest_f_node.position[1] + shift[1])\n",
    "            \n",
    "            # check borders\n",
    "            if successor_position[0] >= 0 and successor_position[0] < (len(map) - 1) and successor_position[1] >= 0 and successor_position[1] < (len(map[len(map)-1])-1):\n",
    "                successors.append(Node(lowest_f_node, successor_position))\n",
    "                \n",
    "        for successor in successors:\n",
    "            successor.g = lowest_f_node.g + 1\n",
    "            successor.h = sqrt ( (successor.position[0] - target[0])**2 + (successor.position[1] - target[1])**2 )\n",
    "            successor.f = successor.g + successor.h\n",
    "            \n",
    "            in_closed_list = False\n",
    "            for node in closed_list:\n",
    "                if node.position == successor.position:\n",
    "                    in_closed_list = True\n",
    "                    \n",
    "            in_open_list = False\n",
    "            for node in open_list:\n",
    "                if node.position == successor.position:\n",
    "                    in_open_list = True\n",
    "                    \n",
    "            if not in_open_list and not in_closed_list:\n",
    "                open_list.append(successor)\n",
    "            \n",
    "            \n",
    "        closed_list.append(lowest_f_node)\n",
    "        \n",
    "def vygeneruj_bludiste(nradku, nsloupcu, hustota_prekazek):\n",
    "    return [[1 if random.random() < hustota_prekazek else 0 for j in range(nsloupcu)] for i in range(nradku)]\n",
    "\n",
    "def bludiste_A():\n",
    "    return [[0,1,0,0,0,1,0],\n",
    "            [0,1,0,1,0,1,0],\n",
    "            [0,1,0,1,0,0,0],\n",
    "            [0,1,0,1,0,1,0],\n",
    "            [0,1,0,1,0,1,0],\n",
    "            [0,0,0,1,0,1,0]]\n",
    "\n",
    "def bludiste_B():\n",
    "    return [[0,0,0,0,0,0,0],\n",
    "            [1,1,1,1,1,1,0],\n",
    "            [0,0,0,0,0,1,0],\n",
    "            [0,0,0,0,0,1,0],\n",
    "            [0,0,0,0,0,1,0],\n",
    "            [0,0,0,0,0,1,0]]\n",
    "\n",
    "def bludiste_C():\n",
    "    return [[0,0,0,0,0,0,0],\n",
    "            [0,1,0,0,1,1,0],\n",
    "            [0,0,1,1,0,1,0],\n",
    "            [0,0,1,1,0,0,0],\n",
    "            [0,0,0,1,0,1,1],\n",
    "            [0,0,0,1,0,0,0]]\n",
    "\n",
    "\n",
    "def vykresli_bludiste(bludiste, zacatek, konec, optimalni_cesta=None):\n",
    "    #grey = volne policko, black = prekazka, green = zacatek, red = cil, yellow = optimalni cesta\n",
    "    cmap = colors.LinearSegmentedColormap.from_list(\"\", [\"grey\", \"black\", \"green\", \"red\", \"yellow\"])\n",
    "    if optimalni_cesta:\n",
    "        for pozice in optimalni_cesta:\n",
    "            bludiste[pozice[0]][pozice[1]] = 4\n",
    "    bludiste[zacatek[0]][zacatek[1]] = 3\n",
    "    bludiste[konec[0]][konec[1]] = 2\n",
    "    obrazek = plt.imshow(bludiste, cmap)\n",
    "\n",
    "\n",
    "def main():\n",
    "    bludiste = vygeneruj_bludiste(nradku=100, nsloupcu=100, hustota_prekazek=0.25)\n",
    "    #bludiste = bludiste_C()\n",
    "    zacatek = (0, 0)\n",
    "    konec = (len(bludiste)-1, len(bludiste[0])-1)\n",
    "    optimalni_cesta = a_star_search(bludiste, zacatek, konec)\n",
    "    vykresli_bludiste(bludiste, zacatek, konec, optimalni_cesta)\n",
    "\n",
    "\n",
    "if __name__ == '__main__':\n",
    "    main()        \n",
    "\n",
    "        "
   ],
   "metadata": {
    "collapsed": false,
    "ExecuteTime": {
     "end_time": "2024-04-26T12:50:32.726031Z",
     "start_time": "2024-04-26T12:50:30.500886Z"
    }
   },
   "id": "4c2e8c37c37922a5",
   "execution_count": 4
  }
 ],
 "metadata": {
  "kernelspec": {
   "display_name": "Python 3",
   "language": "python",
   "name": "python3"
  },
  "language_info": {
   "codemirror_mode": {
    "name": "ipython",
    "version": 2
   },
   "file_extension": ".py",
   "mimetype": "text/x-python",
   "name": "python",
   "nbconvert_exporter": "python",
   "pygments_lexer": "ipython2",
   "version": "2.7.6"
  }
 },
 "nbformat": 4,
 "nbformat_minor": 5
}
