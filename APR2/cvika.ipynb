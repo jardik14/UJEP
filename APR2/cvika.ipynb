{
 "cells": [
  {
   "cell_type": "markdown",
   "source": [
    "# APR2"
   ],
   "metadata": {
    "collapsed": false
   },
   "id": "f134c20d18a7abd3"
  },
  {
   "cell_type": "markdown",
   "source": [
    "##  Cv.1"
   ],
   "metadata": {
    "collapsed": false
   },
   "id": "53c54964a01b0611"
  },
  {
   "cell_type": "markdown",
   "source": [
    "### DCv.1 - Student"
   ],
   "metadata": {
    "collapsed": false
   },
   "id": "ce2cac8ade30b94f"
  },
  {
   "cell_type": "code",
   "outputs": [
    {
     "name": "stdout",
     "output_type": "stream",
     "text": [
      "Id: 1, Fullname: Marko Markovic, Grades: [1, 1, 2, 1]\n",
      "znamky: [1, 1, 2, 1]\n",
      "Id: 2, Fullname: Janko Jankovic, Grades: [5, 5, 5, 5]\n",
      "znamky: [3, 3, 3, 3]\n",
      "Id: 3, Fullname: Milan Milanovic, Grades: [3, 4, 5, 3]\n",
      "znamky: [3, 4, 3, 3]\n",
      "Id: 4, Fullname: Nikola Nikolic, Grades: [2, 2, 3, 2]\n",
      "znamky: [2, 2, 3, 2]\n",
      "Id: 5, Fullname: Petar Petrovic, Grades: [4, 4, 4, 4]\n",
      "znamky: [4, 4, 4, 4]\n",
      "Id: 1, Fullname: Marko Markovic, Grades: [1, 1, 2, 1]\n",
      "Id: 2, Fullname: Janko Jankovic, Grades: [3, 3, 3, 3]\n",
      "Id: 3, Fullname: Milan Milanovic, Grades: [3, 4, 3, 3]\n",
      "Id: 4, Fullname: Nikola Nikolic, Grades: [2, 2, 3, 2]\n",
      "Id: 5, Fullname: Petar Petrovic, Grades: [4, 4, 4, 4]\n"
     ]
    }
   ],
   "source": [
    "class Student:\n",
    "    def __init__(self, student_id, fullname, grades):\n",
    "        self._student_id = student_id\n",
    "        self._fullname = fullname\n",
    "        self._grades = grades\n",
    "        \n",
    "    @property\n",
    "    def student_id(self):\n",
    "        return self._student_id\n",
    "    \n",
    "    @student_id.setter\n",
    "    def student_id(self, student_id):\n",
    "        self._student_id = student_id\n",
    "        \n",
    "    @property\n",
    "    def fullname(self):\n",
    "        return self._fullname\n",
    "    \n",
    "    @fullname.setter\n",
    "    def fullname(self, fullname):\n",
    "        self._fullname = fullname\n",
    "        \n",
    "    @property\n",
    "    def grades(self):\n",
    "        return self._grades\n",
    "    \n",
    "    @grades.setter\n",
    "    def grades(self, grades):\n",
    "        self._grades = grades\n",
    "        \n",
    "def main():\n",
    "    studenti = []\n",
    "    studenti.append(Student(1, \"Marko Markovic\", [1, 1, 2, 1]))\n",
    "    studenti.append(Student(2, \"Janko Jankovic\", [5, 5, 5, 5]))\n",
    "    studenti.append(Student(3, \"Milan Milanovic\", [3, 4, 5, 3]))\n",
    "    studenti.append(Student(4, \"Nikola Nikolic\", [2, 2, 3, 2]))\n",
    "    studenti.append(Student(5, \"Petar Petrovic\", [4, 4, 4, 4]))\n",
    "    \n",
    "    for student in studenti:\n",
    "        print(f\"Id: {student.student_id}, Fullname: {student.fullname}, Grades: {student.grades}\")\n",
    "        znamky = student.grades\n",
    "        for i in range(len(znamky)):\n",
    "            if znamky[i] > 4:\n",
    "                znamky[i] = 3\n",
    "        print(f\"znamky: {znamky}\")\n",
    "        student.grades = znamky\n",
    "        \n",
    "    for student in studenti:\n",
    "        print(f\"Id: {student.student_id}, Fullname: {student.fullname}, Grades: {student.grades}\")\n",
    "            \n",
    "    \n",
    "main()"
   ],
   "metadata": {
    "collapsed": false,
    "ExecuteTime": {
     "end_time": "2024-02-28T12:07:33.139114Z",
     "start_time": "2024-02-28T12:07:33.121163Z"
    }
   },
   "id": "5a229ad11b5ffdad",
   "execution_count": 1
  },
  {
   "cell_type": "markdown",
   "source": [
    "### DCv.2 - Knihovna pro parsování kurzů kryptoměn"
   ],
   "metadata": {
    "collapsed": false
   },
   "id": "e3e3fa8abcf1691f"
  },
  {
   "cell_type": "code",
   "outputs": [],
   "source": [
    "from selenium import webdriver\n",
    "from selenium.webdriver.chrome.options import Options\n",
    "from bs4 import BeautifulSoup\n",
    "\n",
    "url = \"https://www.kurzy.cz/kryptomeny/seznam-kryptomen/\"\n",
    "options = webdriver.ChromeOptions()\n",
    "options.add_argument(\"headless\")\n",
    "driver = webdriver.Chrome(options)\n",
    "driver.get(url)"
   ],
   "metadata": {
    "collapsed": false,
    "ExecuteTime": {
     "end_time": "2024-02-28T12:13:52.534379Z",
     "start_time": "2024-02-28T12:13:45.390519Z"
    }
   },
   "id": "70eede7cca52853c",
   "execution_count": 8
  },
  {
   "cell_type": "code",
   "outputs": [
    {
     "name": "stdout",
     "output_type": "stream",
     "text": [
      "Bitcoin: 1383933 Kč\n",
      "Ethereum: 77388.06 Kč\n",
      "Litecoin: 1762.625 Kč\n"
     ]
    }
   ],
   "source": [
    "from selenium import webdriver\n",
    "from selenium.webdriver.chrome.options import Options\n",
    "from bs4 import BeautifulSoup\n",
    "\n",
    "\n",
    "class CryproCurrencyParser:\n",
    "    def __init__(self, name, abbreviation, url):\n",
    "        self._name = name\n",
    "        self._abbreviation = abbreviation\n",
    "        self._url = url\n",
    "        options = webdriver.ChromeOptions()\n",
    "        options.add_argument(\"headless\")\n",
    "        self._driver = webdriver.Chrome(options)\n",
    "        self._driver.get(self._url)\n",
    "        self._html = self._driver.page_source\n",
    "        self._soup = BeautifulSoup(self._html, \"html.parser\")\n",
    "        \n",
    "    def get_price(self):\n",
    "        price = self._soup.find(\"span\", id=f\"id_{self._abbreviation}_cz\")\n",
    "        return price.text\n",
    "    \n",
    "    def __del__(self):\n",
    "        self._driver.quit()\n",
    "\n",
    "\n",
    "def main():\n",
    "    bitcoin = CryproCurrencyParser(\"Bitcoin\", \"btc\", \"https://www.kurzy.cz/kryptomeny/seznam-kryptomen/\")\n",
    "    print(f\"Bitcoin: {bitcoin.get_price()} Kč\")\n",
    "    bitcoin.__del__()\n",
    "    \n",
    "    ethereum = CryproCurrencyParser(\"Ethereum\", \"eth\", \"https://www.kurzy.cz/kryptomeny/seznam-kryptomen/\")\n",
    "    print(f\"Ethereum: {ethereum.get_price()} Kč\")\n",
    "    ethereum.__del__()\n",
    "    \n",
    "    litecoin = CryproCurrencyParser(\"Litecoin\", \"ltc\", \"https://www.kurzy.cz/kryptomeny/seznam-kryptomen/\")\n",
    "    print(f\"Litecoin: {litecoin.get_price()} Kč\")\n",
    "    litecoin.__del__()\n",
    "    \n",
    "main()"
   ],
   "metadata": {
    "collapsed": false,
    "ExecuteTime": {
     "end_time": "2024-02-28T12:15:40.375981Z",
     "start_time": "2024-02-28T12:14:22.143618Z"
    }
   },
   "id": "4fdf113362304d07",
   "execution_count": 9
  },
  {
   "cell_type": "markdown",
   "source": [
    "### DCv.3 - Dekorátory"
   ],
   "metadata": {
    "collapsed": false
   },
   "id": "cd86aa7e257e5d72"
  },
  {
   "cell_type": "code",
   "outputs": [],
   "source": [
    "def log_decorator(func):\n",
    "    def wrapper(*args, **kwargs):\n",
    "        print(f\"Calling function {func.__name__} with args {args} and kwargs {kwargs}\")\n",
    "        result = func(*args, **kwargs)\n",
    "        print(f\"Function {func.__name__} returned {result}\")\n",
    "        return result\n",
    "    return wrapper"
   ],
   "metadata": {
    "collapsed": false
   },
   "id": "6fd37ccfdebb5c4b"
  },
  {
   "cell_type": "markdown",
   "source": [
    "### DCv.5 - Sčítání fotek"
   ],
   "metadata": {
    "collapsed": false
   },
   "id": "dc7fa902a8d7e4a3"
  },
  {
   "cell_type": "code",
   "outputs": [],
   "source": [
    "from PIL import Image\n",
    "\n",
    "class Photo:\n",
    "    def __init__(self, path):\n",
    "        self._path = path\n",
    "        self._image = Image.open(self._path)\n",
    "        \n",
    "    def __add__(self, other):\n",
    "        new_image = Image.new(\"RGB\", (self._image.width + other._image.width, self._image.height))\n",
    "        new_image.paste(self._image, (0, 0))\n",
    "        new_image.paste(other._image, (self._image.width, 0))\n",
    "        return new_image\n",
    "    \n",
    "    def __sub__(self, other):\n",
    "        new_image = Image.new(\"RGB\", (self._image.width - other._image.width, self._image.height))\n",
    "        new_image.paste(self._image, (0, 0))\n",
    "        new_image.paste(other._image, (self._image.width, 0))\n",
    "        return new_image\n",
    "    \n",
    "    def __str__(self):\n",
    "        return f\"Image: {self._path}\"\n",
    "    \n",
    "    def __int__ (self):\n",
    "        return self._image.width * self._image.height\n",
    "    \n",
    "    def __gt__(self, other):\n",
    "        return int(self) > int(other)\n",
    "    \n",
    "    def __lt__(self, other):\n",
    "        return int(self) < int(other)\n",
    "    \n",
    "    def __eq__(self, other):\n",
    "        return int(self) == int(other)\n",
    "    \n",
    "    \n",
    "    def show(self):\n",
    "        self._image.show()\n",
    "        \n",
    "    \n",
    "def main():\n",
    "    puppy = Photo(\"puppy.jpeg\")\n",
    "    kitten = Photo(\"kitten.jpeg\")\n",
    "    new_image = kitten - puppy\n",
    "    new_image.show()\n",
    "    \n",
    "main()"
   ],
   "metadata": {
    "collapsed": false,
    "ExecuteTime": {
     "end_time": "2024-02-28T12:37:54.770656Z",
     "start_time": "2024-02-28T12:37:50.987873Z"
    }
   },
   "id": "c52af5009829c66",
   "execution_count": 60
  }
 ],
 "metadata": {
  "kernelspec": {
   "display_name": "Python 3",
   "language": "python",
   "name": "python3"
  },
  "language_info": {
   "codemirror_mode": {
    "name": "ipython",
    "version": 2
   },
   "file_extension": ".py",
   "mimetype": "text/x-python",
   "name": "python",
   "nbconvert_exporter": "python",
   "pygments_lexer": "ipython2",
   "version": "2.7.6"
  }
 },
 "nbformat": 4,
 "nbformat_minor": 5
}
